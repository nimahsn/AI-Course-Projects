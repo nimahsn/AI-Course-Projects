{
 "cells": [
  {
   "cell_type": "code",
   "execution_count": 1,
   "metadata": {
    "pycharm": {
     "name": "#%%\n"
    }
   },
   "outputs": [],
   "source": [
    "import pandas as pd\n",
    "import numpy as np"
   ]
  },
  {
   "cell_type": "markdown",
   "metadata": {
    "pycharm": {
     "name": "#%% md\n"
    }
   },
   "source": [
    "# User Embedding"
   ]
  },
  {
   "cell_type": "markdown",
   "metadata": {
    "pycharm": {
     "name": "#%% md\n"
    }
   },
   "source": [
    "## Load Users' Data"
   ]
  },
  {
   "cell_type": "code",
   "execution_count": 2,
   "metadata": {
    "pycharm": {
     "name": "#%%\n"
    }
   },
   "outputs": [
    {
     "name": "stderr",
     "output_type": "stream",
     "text": [
      "<ipython-input-2-7935abd94ba0>:2: ParserWarning: Falling back to the 'python' engine because the 'c' engine does not support regex separators (separators > 1 char and different from '\\s+' are interpreted as regex); you can avoid this warning by specifying engine='python'.\n",
      "  ratings_df = pd.read_table(\"ml-10M100K/r1.train\", sep=\"::\", names=[\"userId\", \"movieId\", \"rating\", \"timestamp\"], nrows=n)\n"
     ]
    }
   ],
   "source": [
    "n=3000000\n",
    "ratings_df = pd.read_table(\"ml-10M100K/r1.train\", sep=\"::\", names=[\"userId\", \"movieId\", \"rating\", \"timestamp\"], nrows=n)"
   ]
  },
  {
   "cell_type": "code",
   "execution_count": 3,
   "metadata": {
    "pycharm": {
     "name": "#%%\n"
    }
   },
   "outputs": [
    {
     "data": {
      "text/html": [
       "<div>\n",
       "<style scoped>\n",
       "    .dataframe tbody tr th:only-of-type {\n",
       "        vertical-align: middle;\n",
       "    }\n",
       "\n",
       "    .dataframe tbody tr th {\n",
       "        vertical-align: top;\n",
       "    }\n",
       "\n",
       "    .dataframe thead th {\n",
       "        text-align: right;\n",
       "    }\n",
       "</style>\n",
       "<table border=\"1\" class=\"dataframe\">\n",
       "  <thead>\n",
       "    <tr style=\"text-align: right;\">\n",
       "      <th></th>\n",
       "      <th>userId</th>\n",
       "      <th>movieId</th>\n",
       "      <th>rating</th>\n",
       "      <th>timestamp</th>\n",
       "    </tr>\n",
       "  </thead>\n",
       "  <tbody>\n",
       "    <tr>\n",
       "      <th>0</th>\n",
       "      <td>14575</td>\n",
       "      <td>173</td>\n",
       "      <td>4.0</td>\n",
       "      <td>828302493</td>\n",
       "    </tr>\n",
       "    <tr>\n",
       "      <th>1</th>\n",
       "      <td>14575</td>\n",
       "      <td>188</td>\n",
       "      <td>4.0</td>\n",
       "      <td>828302494</td>\n",
       "    </tr>\n",
       "    <tr>\n",
       "      <th>2</th>\n",
       "      <td>14575</td>\n",
       "      <td>196</td>\n",
       "      <td>4.0</td>\n",
       "      <td>828302494</td>\n",
       "    </tr>\n",
       "    <tr>\n",
       "      <th>3</th>\n",
       "      <td>14575</td>\n",
       "      <td>208</td>\n",
       "      <td>4.0</td>\n",
       "      <td>828302494</td>\n",
       "    </tr>\n",
       "    <tr>\n",
       "      <th>4</th>\n",
       "      <td>14575</td>\n",
       "      <td>216</td>\n",
       "      <td>4.0</td>\n",
       "      <td>828302493</td>\n",
       "    </tr>\n",
       "  </tbody>\n",
       "</table>\n",
       "</div>"
      ],
      "text/plain": [
       "   userId  movieId  rating  timestamp\n",
       "0   14575      173     4.0  828302493\n",
       "1   14575      188     4.0  828302494\n",
       "2   14575      196     4.0  828302494\n",
       "3   14575      208     4.0  828302494\n",
       "4   14575      216     4.0  828302493"
      ]
     },
     "execution_count": 3,
     "metadata": {},
     "output_type": "execute_result"
    }
   ],
   "source": [
    "ratings_df.head()"
   ]
  },
  {
   "cell_type": "code",
   "execution_count": 4,
   "metadata": {
    "pycharm": {
     "name": "#%%\n"
    }
   },
   "outputs": [
    {
     "data": {
      "text/plain": [
       "(3000000, 4)"
      ]
     },
     "execution_count": 4,
     "metadata": {},
     "output_type": "execute_result"
    }
   ],
   "source": [
    "ratings_df.shape"
   ]
  },
  {
   "cell_type": "code",
   "execution_count": 5,
   "metadata": {
    "pycharm": {
     "name": "#%%\n"
    }
   },
   "outputs": [
    {
     "data": {
      "text/html": [
       "<div>\n",
       "<style scoped>\n",
       "    .dataframe tbody tr th:only-of-type {\n",
       "        vertical-align: middle;\n",
       "    }\n",
       "\n",
       "    .dataframe tbody tr th {\n",
       "        vertical-align: top;\n",
       "    }\n",
       "\n",
       "    .dataframe thead th {\n",
       "        text-align: right;\n",
       "    }\n",
       "</style>\n",
       "<table border=\"1\" class=\"dataframe\">\n",
       "  <thead>\n",
       "    <tr style=\"text-align: right;\">\n",
       "      <th></th>\n",
       "      <th>userId</th>\n",
       "      <th>movieId</th>\n",
       "      <th>rating</th>\n",
       "    </tr>\n",
       "  </thead>\n",
       "  <tbody>\n",
       "    <tr>\n",
       "      <th>0</th>\n",
       "      <td>14575</td>\n",
       "      <td>173</td>\n",
       "      <td>4.0</td>\n",
       "    </tr>\n",
       "    <tr>\n",
       "      <th>1</th>\n",
       "      <td>14575</td>\n",
       "      <td>188</td>\n",
       "      <td>4.0</td>\n",
       "    </tr>\n",
       "    <tr>\n",
       "      <th>2</th>\n",
       "      <td>14575</td>\n",
       "      <td>196</td>\n",
       "      <td>4.0</td>\n",
       "    </tr>\n",
       "    <tr>\n",
       "      <th>3</th>\n",
       "      <td>14575</td>\n",
       "      <td>208</td>\n",
       "      <td>4.0</td>\n",
       "    </tr>\n",
       "    <tr>\n",
       "      <th>4</th>\n",
       "      <td>14575</td>\n",
       "      <td>216</td>\n",
       "      <td>4.0</td>\n",
       "    </tr>\n",
       "  </tbody>\n",
       "</table>\n",
       "</div>"
      ],
      "text/plain": [
       "   userId  movieId  rating\n",
       "0   14575      173     4.0\n",
       "1   14575      188     4.0\n",
       "2   14575      196     4.0\n",
       "3   14575      208     4.0\n",
       "4   14575      216     4.0"
      ]
     },
     "execution_count": 5,
     "metadata": {},
     "output_type": "execute_result"
    }
   ],
   "source": [
    "ratings_df.drop(\"timestamp\", axis=1, inplace=True)\n",
    "ratings_df.head()\n"
   ]
  },
  {
   "cell_type": "code",
   "execution_count": 6,
   "metadata": {
    "pycharm": {
     "name": "#%%\n"
    }
   },
   "outputs": [
    {
     "data": {
      "text/html": [
       "<div>\n",
       "<style scoped>\n",
       "    .dataframe tbody tr th:only-of-type {\n",
       "        vertical-align: middle;\n",
       "    }\n",
       "\n",
       "    .dataframe tbody tr th {\n",
       "        vertical-align: top;\n",
       "    }\n",
       "\n",
       "    .dataframe thead th {\n",
       "        text-align: right;\n",
       "    }\n",
       "</style>\n",
       "<table border=\"1\" class=\"dataframe\">\n",
       "  <thead>\n",
       "    <tr style=\"text-align: right;\">\n",
       "      <th></th>\n",
       "      <th>userId</th>\n",
       "      <th>movieId</th>\n",
       "      <th>rating</th>\n",
       "    </tr>\n",
       "  </thead>\n",
       "  <tbody>\n",
       "    <tr>\n",
       "      <th>0</th>\n",
       "      <td>14575</td>\n",
       "      <td>173</td>\n",
       "      <td>4.0</td>\n",
       "    </tr>\n",
       "    <tr>\n",
       "      <th>1</th>\n",
       "      <td>14575</td>\n",
       "      <td>188</td>\n",
       "      <td>4.0</td>\n",
       "    </tr>\n",
       "    <tr>\n",
       "      <th>2</th>\n",
       "      <td>14575</td>\n",
       "      <td>196</td>\n",
       "      <td>4.0</td>\n",
       "    </tr>\n",
       "    <tr>\n",
       "      <th>3</th>\n",
       "      <td>14575</td>\n",
       "      <td>208</td>\n",
       "      <td>4.0</td>\n",
       "    </tr>\n",
       "    <tr>\n",
       "      <th>4</th>\n",
       "      <td>14575</td>\n",
       "      <td>216</td>\n",
       "      <td>4.0</td>\n",
       "    </tr>\n",
       "  </tbody>\n",
       "</table>\n",
       "</div>"
      ],
      "text/plain": [
       "   userId  movieId  rating\n",
       "0   14575      173     4.0\n",
       "1   14575      188     4.0\n",
       "2   14575      196     4.0\n",
       "3   14575      208     4.0\n",
       "4   14575      216     4.0"
      ]
     },
     "execution_count": 6,
     "metadata": {},
     "output_type": "execute_result"
    }
   ],
   "source": [
    "ratings_df.head()\n"
   ]
  },
  {
   "cell_type": "code",
   "execution_count": 7,
   "metadata": {
    "pycharm": {
     "name": "#%%\n"
    }
   },
   "outputs": [
    {
     "name": "stdout",
     "output_type": "stream",
     "text": [
      "Dataframe size: (20685, 8023)\n"
     ]
    }
   ],
   "source": [
    "users=[k for k,v in ratings_df['userId'].value_counts().iteritems() if v>2]\n",
    "movies=[k for k,v in ratings_df['movieId'].value_counts().iteritems() if v>10]\n",
    "ratings_df=ratings_df[(ratings_df['userId'].isin(users)) & (ratings_df['movieId'].isin(movies))]\n",
    "ratings_df=ratings_df.pivot(index='userId',columns='movieId',values='rating').astype('float32')\n",
    "ratings_df.reset_index(drop=True,inplace=True)\n",
    "ratings_df.fillna(0.0, inplace=True)\n",
    "print ('Dataframe size: {}'.format(ratings_df.shape))"
   ]
  },
  {
   "cell_type": "code",
   "execution_count": 8,
   "metadata": {
    "pycharm": {
     "name": "#%%"
    }
   },
   "outputs": [],
   "source": [
    "from sklearn.model_selection import train_test_split"
   ]
  },
  {
   "cell_type": "code",
   "execution_count": 9,
   "metadata": {
    "pycharm": {
     "name": "#%%\n"
    }
   },
   "outputs": [],
   "source": [
    "train_df, test_df = train_test_split(ratings_df, test_size=0.1, shuffle=True)\n",
    "train_df, valid_df = train_test_split(train_df, test_size=0.09)\n",
    "del ratings_df"
   ]
  },
  {
   "cell_type": "code",
   "execution_count": 10,
   "metadata": {
    "pycharm": {
     "name": "#%%\n"
    }
   },
   "outputs": [
    {
     "name": "stdout",
     "output_type": "stream",
     "text": [
      "Train dataframe size: (16940, 8023)\n",
      "Valid dataframe size: (1676, 8023)\n",
      "Test dataframe size: (2069, 8023)\n"
     ]
    }
   ],
   "source": [
    "train_df.reset_index(inplace=True, drop=True)\n",
    "valid_df.reset_index(inplace=True, drop=True)\n",
    "test_df.reset_index(inplace=True, drop=True)\n",
    "print ('Train dataframe size: {}'.format(train_df.shape))\n",
    "print ('Valid dataframe size: {}'.format(valid_df.shape))\n",
    "print ('Test dataframe size: {}'.format(test_df.shape))"
   ]
  },
  {
   "cell_type": "code",
   "execution_count": 11,
   "metadata": {
    "pycharm": {
     "name": "#%%\n"
    }
   },
   "outputs": [],
   "source": [
    "# from sklearn.preprocessing import Normalizer"
   ]
  },
  {
   "cell_type": "code",
   "execution_count": 12,
   "metadata": {
    "pycharm": {
     "name": "#%%\n"
    }
   },
   "outputs": [],
   "source": [
    "# normalizer = Normalizer()\n",
    "# train_df = normalizer.fit_transform(train_df)\n",
    "# test_df = normalizer.transform(test_df)\n",
    "# valid_df = normalizer.transform(valid_df)"
   ]
  },
  {
   "cell_type": "code",
   "execution_count": 13,
   "metadata": {
    "pycharm": {
     "name": "#%%\n"
    }
   },
   "outputs": [],
   "source": [
    "import time\n",
    "import os\n",
    "def get_board_path(name: str = \"\"):\n",
    "    return os.path.join(\".\", \"tensorboard\", time.strftime(\"%Y-%m-%d_%H:%M:%S\", time.gmtime())+\"_\"+ name)\n",
    "\n",
    "def get_checkpoint_path(name: str = \"\"):\n",
    "    return os.path.join(\".\", \"checkpoints\", time.strftime(\"%Y-%m-%d_%H:%M:%S\", time.gmtime())+\"_\"+ name)\n"
   ]
  },
  {
   "cell_type": "code",
   "execution_count": 14,
   "metadata": {
    "pycharm": {
     "name": "#%%\n"
    }
   },
   "outputs": [
    {
     "name": "stdout",
     "output_type": "stream",
     "text": [
      "WARNING:tensorflow:From <ipython-input-14-e3334256f0ae>:3: is_gpu_available (from tensorflow.python.framework.test_util) is deprecated and will be removed in a future version.\n",
      "Instructions for updating:\n",
      "Use `tf.config.list_physical_devices('GPU')` instead.\n"
     ]
    },
    {
     "data": {
      "text/plain": [
       "True"
      ]
     },
     "execution_count": 14,
     "metadata": {},
     "output_type": "execute_result"
    }
   ],
   "source": [
    "import tensorflow as tf\n",
    "from tensorflow import keras\n",
    "tf.test.is_gpu_available()"
   ]
  },
  {
   "cell_type": "code",
   "execution_count": 15,
   "metadata": {
    "pycharm": {
     "name": "#%%\n"
    }
   },
   "outputs": [],
   "source": [
    "import models"
   ]
  },
  {
   "cell_type": "code",
   "execution_count": 16,
   "metadata": {
    "pycharm": {
     "name": "#%%\n"
    }
   },
   "outputs": [],
   "source": [
    "layers = [512, 256, 512]\n",
    "activation = \"selu\"\n",
    "output_activation = \"selu\""
   ]
  },
  {
   "cell_type": "code",
   "execution_count": 17,
   "metadata": {
    "pycharm": {
     "name": "#%%\n"
    }
   },
   "outputs": [
    {
     "name": "stdout",
     "output_type": "stream",
     "text": [
      "Model: \"model\"\n",
      "_________________________________________________________________\n",
      "Layer (type)                 Output Shape              Param #   \n",
      "=================================================================\n",
      "input_layer (InputLayer)     [(None, 8023)]            0         \n",
      "_________________________________________________________________\n",
      "dropout (Dropout)            (None, 8023)              0         \n",
      "_________________________________________________________________\n",
      "encoder_1 (Dense)            (None, 512)               4108288   \n",
      "_________________________________________________________________\n",
      "tf.nn.selu (TFOpLambda)      (None, 512)               0         \n",
      "_________________________________________________________________\n",
      "latent (Dense)               (None, 256)               131328    \n",
      "_________________________________________________________________\n",
      "tf.nn.selu_1 (TFOpLambda)    (None, 256)               0         \n",
      "_________________________________________________________________\n",
      "dropout_1 (Dropout)          (None, 256)               0         \n",
      "_________________________________________________________________\n",
      "decoder_1 (Dense)            (None, 512)               131584    \n",
      "_________________________________________________________________\n",
      "tf.nn.selu_2 (TFOpLambda)    (None, 512)               0         \n",
      "_________________________________________________________________\n",
      "predictions (Dense)          (None, 8023)              4115799   \n",
      "=================================================================\n",
      "Total params: 8,486,999\n",
      "Trainable params: 8,486,999\n",
      "Non-trainable params: 0\n",
      "_________________________________________________________________\n"
     ]
    }
   ],
   "source": [
    "ae_model = models.deep_auto_recommender_model(train_df, units=layers, activation_fn=activation, output_activation=output_activation, batch_normalization=False, latent_dropout=0.7, input_drop_out=0.1)\n",
    "ae_model.compile(optimizer=keras.optimizers.Adam(learning_rate=0.0001), loss=models.masked_mse, metrics=models.masked_rmse_clip)\n",
    "ae_model.summary()"
   ]
  },
  {
   "cell_type": "code",
   "execution_count": 18,
   "metadata": {
    "pycharm": {
     "name": "#%%\n"
    }
   },
   "outputs": [
    {
     "data": {
      "image/png": "[encoded data removed]",
      "text/plain": [
       "<IPython.core.display.Image object>"
      ]
     },
     "execution_count": 18,
     "metadata": {},
     "output_type": "execute_result"
    }
   ],
   "source": [
    "keras.utils.plot_model(ae_model, to_file=\"ratings_auto_encoder_model.png\")"
   ]
  },
  {
   "cell_type": "code",
   "execution_count": 19,
   "metadata": {
    "pycharm": {
     "name": "#%%\n"
    }
   },
   "outputs": [],
   "source": [
    "tb_cb = keras.callbacks.TensorBoard(get_board_path(\"ml10_users_ae\"))\n",
    "plateau_cb =keras.callbacks.ReduceLROnPlateau(factor=0.3, patience=4)\n",
    "checkpoints_cb = keras.callbacks.ModelCheckpoint(filepath=get_checkpoint_path(\"ml10_users_ae\"), save_best_only=True)\n",
    "early_cb = keras.callbacks.EarlyStopping(patience=10, restore_best_weights=True, min_delta=1e-4)\n",
    "callbacks = [tb_cb, plateau_cb, checkpoints_cb, early_cb]"
   ]
  },
  {
   "cell_type": "code",
   "execution_count": 20,
   "metadata": {
    "pycharm": {
     "name": "#%%\n"
    },
    "scrolled": true
   },
   "outputs": [
    {
     "name": "stdout",
     "output_type": "stream",
     "text": [
      "Epoch 1/250\n",
      "530/530 [==============================] - 13s 24ms/step - loss: 7.6040 - masked_rmse_clip: 1.7707 - val_loss: 2.6937 - val_masked_rmse_clip: 0.9601\n",
      "INFO:tensorflow:Assets written to: ./checkpoints/2021-05-10_22:08:02_ml10_users_ae/assets\n",
      "Epoch 2/250\n",
      "530/530 [==============================] - 12s 23ms/step - loss: 2.7783 - masked_rmse_clip: 1.0489 - val_loss: 2.2712 - val_masked_rmse_clip: 0.9417\n",
      "INFO:tensorflow:Assets written to: ./checkpoints/2021-05-10_22:08:02_ml10_users_ae/assets\n",
      "Epoch 3/250\n",
      "530/530 [==============================] - 12s 23ms/step - loss: 2.3052 - masked_rmse_clip: 0.9961 - val_loss: 1.9721 - val_masked_rmse_clip: 0.9298\n",
      "INFO:tensorflow:Assets written to: ./checkpoints/2021-05-10_22:08:02_ml10_users_ae/assets\n",
      "Epoch 4/250\n",
      "530/530 [==============================] - 12s 23ms/step - loss: 1.9845 - masked_rmse_clip: 0.9667 - val_loss: 1.7467 - val_masked_rmse_clip: 0.9222\n",
      "INFO:tensorflow:Assets written to: ./checkpoints/2021-05-10_22:08:02_ml10_users_ae/assets\n",
      "Epoch 5/250\n",
      "530/530 [==============================] - 12s 23ms/step - loss: 1.7488 - masked_rmse_clip: 0.9471 - val_loss: 1.5721 - val_masked_rmse_clip: 0.9149\n",
      "INFO:tensorflow:Assets written to: ./checkpoints/2021-05-10_22:08:02_ml10_users_ae/assets\n",
      "Epoch 6/250\n",
      "530/530 [==============================] - 12s 23ms/step - loss: 1.5681 - masked_rmse_clip: 0.9315 - val_loss: 1.4464 - val_masked_rmse_clip: 0.9131\n",
      "INFO:tensorflow:Assets written to: ./checkpoints/2021-05-10_22:08:02_ml10_users_ae/assets\n",
      "Epoch 7/250\n",
      "530/530 [==============================] - 12s 23ms/step - loss: 1.4346 - masked_rmse_clip: 0.9223 - val_loss: 1.3502 - val_masked_rmse_clip: 0.9108\n",
      "INFO:tensorflow:Assets written to: ./checkpoints/2021-05-10_22:08:02_ml10_users_ae/assets\n",
      "Epoch 8/250\n",
      "530/530 [==============================] - 12s 23ms/step - loss: 1.3504 - masked_rmse_clip: 0.9224 - val_loss: 1.2784 - val_masked_rmse_clip: 0.9089\n",
      "INFO:tensorflow:Assets written to: ./checkpoints/2021-05-10_22:08:02_ml10_users_ae/assets\n",
      "Epoch 9/250\n",
      "530/530 [==============================] - 12s 23ms/step - loss: 1.2675 - masked_rmse_clip: 0.9123 - val_loss: 1.2217 - val_masked_rmse_clip: 0.9066\n",
      "INFO:tensorflow:Assets written to: ./checkpoints/2021-05-10_22:08:02_ml10_users_ae/assets\n",
      "Epoch 10/250\n",
      "530/530 [==============================] - 12s 23ms/step - loss: 1.2075 - masked_rmse_clip: 0.9071 - val_loss: 1.1857 - val_masked_rmse_clip: 0.9082\n",
      "INFO:tensorflow:Assets written to: ./checkpoints/2021-05-10_22:08:02_ml10_users_ae/assets\n",
      "Epoch 11/250\n",
      "530/530 [==============================] - 12s 23ms/step - loss: 1.1668 - masked_rmse_clip: 0.9045 - val_loss: 1.1477 - val_masked_rmse_clip: 0.9049\n",
      "INFO:tensorflow:Assets written to: ./checkpoints/2021-05-10_22:08:02_ml10_users_ae/assets\n",
      "Epoch 12/250\n",
      "530/530 [==============================] - 12s 23ms/step - loss: 1.1271 - masked_rmse_clip: 0.8996 - val_loss: 1.1294 - val_masked_rmse_clip: 0.9067\n",
      "INFO:tensorflow:Assets written to: ./checkpoints/2021-05-10_22:08:02_ml10_users_ae/assets\n",
      "Epoch 13/250\n",
      "530/530 [==============================] - 12s 23ms/step - loss: 1.1060 - masked_rmse_clip: 0.8995 - val_loss: 1.1042 - val_masked_rmse_clip: 0.9027\n",
      "INFO:tensorflow:Assets written to: ./checkpoints/2021-05-10_22:08:02_ml10_users_ae/assets\n",
      "Epoch 14/250\n",
      "530/530 [==============================] - 12s 23ms/step - loss: 1.0814 - masked_rmse_clip: 0.8962 - val_loss: 1.0861 - val_masked_rmse_clip: 0.9019\n",
      "INFO:tensorflow:Assets written to: ./checkpoints/2021-05-10_22:08:02_ml10_users_ae/assets\n",
      "Epoch 15/250\n",
      "530/530 [==============================] - 12s 23ms/step - loss: 1.0603 - masked_rmse_clip: 0.8930 - val_loss: 1.0709 - val_masked_rmse_clip: 0.9011\n",
      "INFO:tensorflow:Assets written to: ./checkpoints/2021-05-10_22:08:02_ml10_users_ae/assets\n",
      "Epoch 16/250\n",
      "530/530 [==============================] - 12s 23ms/step - loss: 1.0546 - masked_rmse_clip: 0.8960 - val_loss: 1.0647 - val_masked_rmse_clip: 0.9027\n",
      "INFO:tensorflow:Assets written to: ./checkpoints/2021-05-10_22:08:02_ml10_users_ae/assets\n",
      "Epoch 17/250\n",
      "530/530 [==============================] - 12s 23ms/step - loss: 1.0369 - masked_rmse_clip: 0.8918 - val_loss: 1.0514 - val_masked_rmse_clip: 0.9006\n",
      "INFO:tensorflow:Assets written to: ./checkpoints/2021-05-10_22:08:02_ml10_users_ae/assets\n",
      "Epoch 18/250\n",
      "530/530 [==============================] - 12s 23ms/step - loss: 1.0262 - masked_rmse_clip: 0.8913 - val_loss: 1.0449 - val_masked_rmse_clip: 0.9018\n",
      "INFO:tensorflow:Assets written to: ./checkpoints/2021-05-10_22:08:02_ml10_users_ae/assets\n",
      "Epoch 19/250\n",
      "530/530 [==============================] - 12s 23ms/step - loss: 1.0149 - masked_rmse_clip: 0.8889 - val_loss: 1.0307 - val_masked_rmse_clip: 0.8978\n",
      "INFO:tensorflow:Assets written to: ./checkpoints/2021-05-10_22:08:02_ml10_users_ae/assets\n",
      "Epoch 20/250\n",
      "530/530 [==============================] - 12s 23ms/step - loss: 1.0040 - masked_rmse_clip: 0.8869 - val_loss: 1.0255 - val_masked_rmse_clip: 0.8978\n",
      "INFO:tensorflow:Assets written to: ./checkpoints/2021-05-10_22:08:02_ml10_users_ae/assets\n",
      "Epoch 21/250\n",
      "530/530 [==============================] - 12s 23ms/step - loss: 1.0020 - masked_rmse_clip: 0.8882 - val_loss: 1.0222 - val_masked_rmse_clip: 0.8974\n",
      "INFO:tensorflow:Assets written to: ./checkpoints/2021-05-10_22:08:02_ml10_users_ae/assets\n",
      "Epoch 22/250\n",
      "530/530 [==============================] - 12s 23ms/step - loss: 0.9971 - masked_rmse_clip: 0.8876 - val_loss: 1.0157 - val_masked_rmse_clip: 0.8974\n",
      "INFO:tensorflow:Assets written to: ./checkpoints/2021-05-10_22:08:02_ml10_users_ae/assets\n",
      "Epoch 23/250\n",
      "530/530 [==============================] - 12s 23ms/step - loss: 0.9922 - masked_rmse_clip: 0.8874 - val_loss: 1.0102 - val_masked_rmse_clip: 0.8953\n",
      "INFO:tensorflow:Assets written to: ./checkpoints/2021-05-10_22:08:02_ml10_users_ae/assets\n",
      "Epoch 24/250\n",
      "530/530 [==============================] - 12s 23ms/step - loss: 0.9817 - masked_rmse_clip: 0.8829 - val_loss: 1.0102 - val_masked_rmse_clip: 0.8970\n",
      "Epoch 25/250\n",
      "530/530 [==============================] - 12s 23ms/step - loss: 0.9774 - masked_rmse_clip: 0.8823 - val_loss: 1.0091 - val_masked_rmse_clip: 0.8971\n",
      "INFO:tensorflow:Assets written to: ./checkpoints/2021-05-10_22:08:02_ml10_users_ae/assets\n",
      "Epoch 26/250\n",
      "530/530 [==============================] - 12s 23ms/step - loss: 0.9718 - masked_rmse_clip: 0.8805 - val_loss: 1.0035 - val_masked_rmse_clip: 0.8956\n",
      "INFO:tensorflow:Assets written to: ./checkpoints/2021-05-10_22:08:02_ml10_users_ae/assets\n",
      "Epoch 27/250\n",
      "530/530 [==============================] - 12s 23ms/step - loss: 0.9688 - masked_rmse_clip: 0.8799 - val_loss: 0.9999 - val_masked_rmse_clip: 0.8944\n",
      "INFO:tensorflow:Assets written to: ./checkpoints/2021-05-10_22:08:02_ml10_users_ae/assets\n",
      "Epoch 28/250\n",
      "530/530 [==============================] - 12s 23ms/step - loss: 0.9655 - masked_rmse_clip: 0.8791 - val_loss: 1.0008 - val_masked_rmse_clip: 0.8953\n",
      "Epoch 29/250\n",
      "530/530 [==============================] - 12s 23ms/step - loss: 0.9610 - masked_rmse_clip: 0.8778 - val_loss: 1.0005 - val_masked_rmse_clip: 0.8967\n",
      "Epoch 30/250\n",
      "530/530 [==============================] - 12s 23ms/step - loss: 0.9582 - masked_rmse_clip: 0.8768 - val_loss: 1.0023 - val_masked_rmse_clip: 0.8986\n",
      "Epoch 31/250\n",
      "530/530 [==============================] - 12s 23ms/step - loss: 0.9646 - masked_rmse_clip: 0.8807 - val_loss: 0.9990 - val_masked_rmse_clip: 0.8962\n",
      "INFO:tensorflow:Assets written to: ./checkpoints/2021-05-10_22:08:02_ml10_users_ae/assets\n",
      "Epoch 32/250\n",
      "530/530 [==============================] - 12s 23ms/step - loss: 0.9540 - masked_rmse_clip: 0.8758 - val_loss: 0.9931 - val_masked_rmse_clip: 0.8936\n",
      "INFO:tensorflow:Assets written to: ./checkpoints/2021-05-10_22:08:02_ml10_users_ae/assets\n",
      "Epoch 33/250\n",
      "530/530 [==============================] - 12s 23ms/step - loss: 0.9635 - masked_rmse_clip: 0.8816 - val_loss: 0.9990 - val_masked_rmse_clip: 0.8975 0.963\n",
      "Epoch 34/250\n",
      "530/530 [==============================] - 12s 23ms/step - loss: 0.9617 - masked_rmse_clip: 0.8800 - val_loss: 0.9943 - val_masked_rmse_clip: 0.8958\n",
      "Epoch 35/250\n"
     ]
    },
    {
     "name": "stdout",
     "output_type": "stream",
     "text": [
      "530/530 [==============================] - 12s 23ms/step - loss: 0.9495 - masked_rmse_clip: 0.8745 - val_loss: 0.9951 - val_masked_rmse_clip: 0.8958\n",
      "Epoch 36/250\n",
      "530/530 [==============================] - 12s 23ms/step - loss: 0.9509 - masked_rmse_clip: 0.8752 - val_loss: 0.9924 - val_masked_rmse_clip: 0.8946\n",
      "INFO:tensorflow:Assets written to: ./checkpoints/2021-05-10_22:08:02_ml10_users_ae/assets\n",
      "Epoch 37/250\n",
      "530/530 [==============================] - 12s 23ms/step - loss: 0.9544 - masked_rmse_clip: 0.8778 - val_loss: 0.9950 - val_masked_rmse_clip: 0.8961\n",
      "Epoch 38/250\n",
      "530/530 [==============================] - 12s 23ms/step - loss: 0.9452 - masked_rmse_clip: 0.8728 - val_loss: 0.9962 - val_masked_rmse_clip: 0.8968\n",
      "Epoch 39/250\n",
      "530/530 [==============================] - 12s 23ms/step - loss: 0.9495 - masked_rmse_clip: 0.8753 - val_loss: 0.9987 - val_masked_rmse_clip: 0.8975\n",
      "Epoch 40/250\n",
      "530/530 [==============================] - 12s 23ms/step - loss: 0.9478 - masked_rmse_clip: 0.8743 - val_loss: 0.9914 - val_masked_rmse_clip: 0.8948\n",
      "INFO:tensorflow:Assets written to: ./checkpoints/2021-05-10_22:08:02_ml10_users_ae/assets\n",
      "Epoch 41/250\n",
      "530/530 [==============================] - 12s 23ms/step - loss: 0.9461 - masked_rmse_clip: 0.8740 - val_loss: 0.9918 - val_masked_rmse_clip: 0.8955\n",
      "Epoch 42/250\n",
      "530/530 [==============================] - 12s 23ms/step - loss: 0.9431 - masked_rmse_clip: 0.8722 - val_loss: 0.9880 - val_masked_rmse_clip: 0.8934\n",
      "INFO:tensorflow:Assets written to: ./checkpoints/2021-05-10_22:08:02_ml10_users_ae/assets\n",
      "Epoch 43/250\n",
      "530/530 [==============================] - 12s 23ms/step - loss: 0.9378 - masked_rmse_clip: 0.8698 - val_loss: 0.9905 - val_masked_rmse_clip: 0.8945\n",
      "Epoch 44/250\n",
      "530/530 [==============================] - 12s 23ms/step - loss: 0.9383 - masked_rmse_clip: 0.8698 - val_loss: 0.9896 - val_masked_rmse_clip: 0.8942\n",
      "Epoch 45/250\n",
      "530/530 [==============================] - 12s 23ms/step - loss: 0.9412 - masked_rmse_clip: 0.8710 - val_loss: 0.9957 - val_masked_rmse_clip: 0.8979\n",
      "Epoch 46/250\n",
      "530/530 [==============================] - 12s 23ms/step - loss: 0.9361 - masked_rmse_clip: 0.8688 - val_loss: 0.9935 - val_masked_rmse_clip: 0.8961\n",
      "Epoch 47/250\n",
      "530/530 [==============================] - 12s 23ms/step - loss: 0.9068 - masked_rmse_clip: 0.8535 - val_loss: 0.9657 - val_masked_rmse_clip: 0.8823\n",
      "INFO:tensorflow:Assets written to: ./checkpoints/2021-05-10_22:08:02_ml10_users_ae/assets\n",
      "Epoch 48/250\n",
      "530/530 [==============================] - 12s 23ms/step - loss: 0.8956 - masked_rmse_clip: 0.8480 - val_loss: 0.9647 - val_masked_rmse_clip: 0.8818\n",
      "INFO:tensorflow:Assets written to: ./checkpoints/2021-05-10_22:08:02_ml10_users_ae/assets\n",
      "Epoch 49/250\n",
      "530/530 [==============================] - 12s 23ms/step - loss: 0.8952 - masked_rmse_clip: 0.8480 - val_loss: 0.9649 - val_masked_rmse_clip: 0.8817\n",
      "Epoch 50/250\n",
      "530/530 [==============================] - 12s 23ms/step - loss: 0.8935 - masked_rmse_clip: 0.8481 - val_loss: 0.9636 - val_masked_rmse_clip: 0.8818\n",
      "INFO:tensorflow:Assets written to: ./checkpoints/2021-05-10_22:08:02_ml10_users_ae/assets\n",
      "Epoch 51/250\n",
      "530/530 [==============================] - 12s 23ms/step - loss: 0.8983 - masked_rmse_clip: 0.8502 - val_loss: 0.9668 - val_masked_rmse_clip: 0.8830\n",
      "Epoch 52/250\n",
      "530/530 [==============================] - 12s 23ms/step - loss: 0.8869 - masked_rmse_clip: 0.8439 - val_loss: 0.9633 - val_masked_rmse_clip: 0.8821\n",
      "INFO:tensorflow:Assets written to: ./checkpoints/2021-05-10_22:08:02_ml10_users_ae/assets\n",
      "Epoch 53/250\n",
      "530/530 [==============================] - 12s 23ms/step - loss: 0.8902 - masked_rmse_clip: 0.8461 - val_loss: 0.9634 - val_masked_rmse_clip: 0.8817\n",
      "Epoch 54/250\n",
      "530/530 [==============================] - 12s 23ms/step - loss: 0.8893 - masked_rmse_clip: 0.8457 - val_loss: 0.9655 - val_masked_rmse_clip: 0.8829\n",
      "Epoch 55/250\n",
      "530/530 [==============================] - 12s 23ms/step - loss: 0.8859 - masked_rmse_clip: 0.8439 - val_loss: 0.9647 - val_masked_rmse_clip: 0.8823\n",
      "Epoch 56/250\n",
      "530/530 [==============================] - 12s 23ms/step - loss: 0.8851 - masked_rmse_clip: 0.8432 - val_loss: 0.9634 - val_masked_rmse_clip: 0.8818\n",
      "Epoch 57/250\n",
      "530/530 [==============================] - 12s 23ms/step - loss: 0.8821 - masked_rmse_clip: 0.8413 - val_loss: 0.9583 - val_masked_rmse_clip: 0.8793\n",
      "INFO:tensorflow:Assets written to: ./checkpoints/2021-05-10_22:08:02_ml10_users_ae/assets\n",
      "Epoch 58/250\n",
      "530/530 [==============================] - 12s 23ms/step - loss: 0.8747 - masked_rmse_clip: 0.8378 - val_loss: 0.9585 - val_masked_rmse_clip: 0.8791oss: 0.8746 - masked_rmse_clip: \n",
      "Epoch 59/250\n",
      "530/530 [==============================] - 12s 23ms/step - loss: 0.8771 - masked_rmse_clip: 0.8384 - val_loss: 0.9577 - val_masked_rmse_clip: 0.8789\n",
      "INFO:tensorflow:Assets written to: ./checkpoints/2021-05-10_22:08:02_ml10_users_ae/assets\n",
      "Epoch 60/250\n",
      "530/530 [==============================] - 12s 23ms/step - loss: 0.8692 - masked_rmse_clip: 0.8352 - val_loss: 0.9584 - val_masked_rmse_clip: 0.8794\n",
      "Epoch 61/250\n",
      "530/530 [==============================] - 12s 23ms/step - loss: 0.8652 - masked_rmse_clip: 0.8328 - val_loss: 0.9574 - val_masked_rmse_clip: 0.8786\n",
      "INFO:tensorflow:Assets written to: ./checkpoints/2021-05-10_22:08:02_ml10_users_ae/assets\n",
      "Epoch 62/250\n",
      "530/530 [==============================] - 12s 23ms/step - loss: 0.8735 - masked_rmse_clip: 0.8368 - val_loss: 0.9579 - val_masked_rmse_clip: 0.8790\n",
      "Epoch 63/250\n",
      "530/530 [==============================] - 12s 23ms/step - loss: 0.8703 - masked_rmse_clip: 0.8354 - val_loss: 0.9585 - val_masked_rmse_clip: 0.8795\n",
      "Epoch 64/250\n",
      "530/530 [==============================] - 12s 23ms/step - loss: 0.8727 - masked_rmse_clip: 0.8368 - val_loss: 0.9577 - val_masked_rmse_clip: 0.8791sked\n",
      "Epoch 65/250\n",
      "530/530 [==============================] - 12s 23ms/step - loss: 0.8708 - masked_rmse_clip: 0.8356 - val_loss: 0.9579 - val_masked_rmse_clip: 0.8792\n",
      "Epoch 66/250\n",
      "530/530 [==============================] - 12s 23ms/step - loss: 0.8746 - masked_rmse_clip: 0.8372 - val_loss: 0.9568 - val_masked_rmse_clip: 0.8785\n",
      "INFO:tensorflow:Assets written to: ./checkpoints/2021-05-10_22:08:02_ml10_users_ae/assets\n",
      "Epoch 67/250\n",
      "530/530 [==============================] - 12s 23ms/step - loss: 0.8691 - masked_rmse_clip: 0.8346 - val_loss: 0.9571 - val_masked_rmse_clip: 0.8787\n",
      "Epoch 68/250\n",
      "530/530 [==============================] - 12s 23ms/step - loss: 0.8717 - masked_rmse_clip: 0.8360 - val_loss: 0.9572 - val_masked_rmse_clip: 0.8787\n",
      "Epoch 69/250\n",
      "530/530 [==============================] - 12s 23ms/step - loss: 0.8707 - masked_rmse_clip: 0.8355 - val_loss: 0.9571 - val_masked_rmse_clip: 0.8788\n",
      "Epoch 70/250\n",
      "530/530 [==============================] - 12s 23ms/step - loss: 0.8712 - masked_rmse_clip: 0.8357 - val_loss: 0.9572 - val_masked_rmse_clip: 0.8788\n",
      "Epoch 71/250\n",
      "530/530 [==============================] - 12s 23ms/step - loss: 0.8700 - masked_rmse_clip: 0.8355 - val_loss: 0.9569 - val_masked_rmse_clip: 0.8787\n",
      "Epoch 72/250\n",
      "530/530 [==============================] - 12s 23ms/step - loss: 0.8655 - masked_rmse_clip: 0.8325 - val_loss: 0.9569 - val_masked_rmse_clip: 0.8787\n",
      "Epoch 73/250\n",
      "530/530 [==============================] - 12s 23ms/step - loss: 0.8699 - masked_rmse_clip: 0.8350 - val_loss: 0.9570 - val_masked_rmse_clip: 0.8788\n",
      "Epoch 74/250\n",
      "530/530 [==============================] - 12s 23ms/step - loss: 0.8697 - masked_rmse_clip: 0.8348 - val_loss: 0.9570 - val_masked_rmse_clip: 0.8787\n",
      "Epoch 75/250\n",
      "530/530 [==============================] - 12s 23ms/step - loss: 0.8656 - masked_rmse_clip: 0.8330 - val_loss: 0.9569 - val_masked_rmse_clip: 0.8787\n",
      "Epoch 76/250\n",
      "530/530 [==============================] - 12s 23ms/step - loss: 0.8700 - masked_rmse_clip: 0.8351 - val_loss: 0.9569 - val_masked_rmse_clip: 0.8787\n"
     ]
    }
   ],
   "source": [
    "hist_ae = ae_model.fit(x=train_df, y=train_df,\n",
    "                  epochs=250,\n",
    "                  batch_size=32,\n",
    "                  validation_data=(valid_df, valid_df),\n",
    "                  callbacks=callbacks)"
   ]
  },
  {
   "cell_type": "code",
   "execution_count": 29,
   "metadata": {
    "pycharm": {
     "name": "#%%\n"
    }
   },
   "outputs": [],
   "source": [
    "import matplotlib.pyplot as plt"
   ]
  },
  {
   "cell_type": "code",
   "execution_count": 49,
   "metadata": {
    "pycharm": {
     "name": "#%%\n"
    }
   },
   "outputs": [],
   "source": [
    "def show_rmse(history, skip, filename):\n",
    "    rmse = history.history['masked_rmse_clip']\n",
    "    val_rmse = history.history['val_masked_rmse_clip']\n",
    "    plt.plot(np.arange(skip, len(rmse), 1), rmse[skip:])\n",
    "    plt.plot(np.arange(skip, len(val_rmse), 1), val_rmse[skip:])\n",
    "    plt.title(filename) #'model train vs validation masked_rmse'\n",
    "    plt.ylabel('rmse')\n",
    "    plt.xlabel('epoch')\n",
    "    plt.legend(['train', 'validation'], loc='best')\n",
    "    plt.savefig(filename + '.jpg',bbox_inches='tight', dpi=500)\n",
    "    plt.show()"
   ]
  },
  {
   "cell_type": "code",
   "execution_count": 50,
   "metadata": {
    "pycharm": {
     "name": "#%%\n"
    }
   },
   "outputs": [
    {
     "data": {
      "image/png": "[encoded data removed]",
      "text/plain": [
       "<Figure size 432x288 with 1 Axes>"
      ]
     },
     "metadata": {
      "needs_background": "light"
     },
     "output_type": "display_data"
    }
   ],
   "source": [
    "show_rmse(hist_ae,2, \"Masked RMSE Clip\")"
   ]
  },
  {
   "cell_type": "code",
   "execution_count": 51,
   "metadata": {},
   "outputs": [],
   "source": [
    "def show_error(history, skip, filename):\n",
    "    loss = history.history['loss']\n",
    "    val_loss = history.history['val_loss']\n",
    "    plt.plot(np.arange(skip, len(loss), 1), loss[skip:])\n",
    "    plt.plot(np.arange(skip, len(loss), 1), val_loss[skip:])\n",
    "    plt.title(filename) #'model train vs validation loss'\n",
    "    plt.ylabel('loss')\n",
    "    plt.xlabel('epoch')\n",
    "    plt.legend(['train', 'validation'], loc='best')\n",
    "    plt.savefig(filename + '.jpg',bbox_inches='tight', dpi=500)\n",
    "    plt.show()"
   ]
  },
  {
   "cell_type": "code",
   "execution_count": 52,
   "metadata": {},
   "outputs": [
    {
     "data": {
      "image/png": "[encoded data removed]",
      "text/plain": [
       "<Figure size 432x288 with 1 Axes>"
      ]
     },
     "metadata": {
      "needs_background": "light"
     },
     "output_type": "display_data"
    }
   ],
   "source": [
    "show_error(hist_ae, 7, \"Loss (Masked MSE)\")"
   ]
  },
  {
   "cell_type": "code",
   "execution_count": 55,
   "metadata": {},
   "outputs": [
    {
     "name": "stdout",
     "output_type": "stream",
     "text": [
      "65/65 [==============================] - 0s 7ms/step - loss: 0.9974 - masked_rmse_clip: 0.8973\n"
     ]
    },
    {
     "data": {
      "text/plain": [
       "[0.9974052906036377, 0.8972718119621277]"
      ]
     },
     "execution_count": 55,
     "metadata": {},
     "output_type": "execute_result"
    }
   ],
   "source": [
    "ae_model.evaluate(test_df, test_df)"
   ]
  },
  {
   "cell_type": "code",
   "execution_count": 57,
   "metadata": {},
   "outputs": [
    {
     "name": "stdout",
     "output_type": "stream",
     "text": [
      "INFO:tensorflow:Assets written to: movielens10_users_embedding/auto_encoder/assets\n"
     ]
    }
   ],
   "source": [
    "ae_model.save(\"movielens10_users_embedding/auto_encoder\")"
   ]
  },
  {
   "cell_type": "code",
   "execution_count": 58,
   "metadata": {},
   "outputs": [],
   "source": [
    "train_df.to_pickle(\"movielens10_users_embedding/ratings_train.pkl\")\n",
    "test_df.to_pickle(\"movielens10_users_embedding/ratings_test.pkl\")\n",
    "valid_df.to_pickle(\"movielens10_users_embedding/ratings_valid.pkl\")"
   ]
  },
  {
   "cell_type": "code",
   "execution_count": 61,
   "metadata": {},
   "outputs": [],
   "source": [
    "hist_df = pd.DataFrame(hist_ae.history)"
   ]
  },
  {
   "cell_type": "code",
   "execution_count": 62,
   "metadata": {},
   "outputs": [
    {
     "data": {
      "text/html": [
       "<div>\n",
       "<style scoped>\n",
       "    .dataframe tbody tr th:only-of-type {\n",
       "        vertical-align: middle;\n",
       "    }\n",
       "\n",
       "    .dataframe tbody tr th {\n",
       "        vertical-align: top;\n",
       "    }\n",
       "\n",
       "    .dataframe thead th {\n",
       "        text-align: right;\n",
       "    }\n",
       "</style>\n",
       "<table border=\"1\" class=\"dataframe\">\n",
       "  <thead>\n",
       "    <tr style=\"text-align: right;\">\n",
       "      <th></th>\n",
       "      <th>loss</th>\n",
       "      <th>masked_rmse_clip</th>\n",
       "      <th>val_loss</th>\n",
       "      <th>val_masked_rmse_clip</th>\n",
       "      <th>lr</th>\n",
       "    </tr>\n",
       "  </thead>\n",
       "  <tbody>\n",
       "    <tr>\n",
       "      <th>0</th>\n",
       "      <td>4.654122</td>\n",
       "      <td>1.346634</td>\n",
       "      <td>2.693665</td>\n",
       "      <td>0.960090</td>\n",
       "      <td>0.0001</td>\n",
       "    </tr>\n",
       "    <tr>\n",
       "      <th>1</th>\n",
       "      <td>2.652906</td>\n",
       "      <td>1.036692</td>\n",
       "      <td>2.271235</td>\n",
       "      <td>0.941658</td>\n",
       "      <td>0.0001</td>\n",
       "    </tr>\n",
       "    <tr>\n",
       "      <th>2</th>\n",
       "      <td>2.225026</td>\n",
       "      <td>0.990700</td>\n",
       "      <td>1.972055</td>\n",
       "      <td>0.929821</td>\n",
       "      <td>0.0001</td>\n",
       "    </tr>\n",
       "    <tr>\n",
       "      <th>3</th>\n",
       "      <td>1.927146</td>\n",
       "      <td>0.963956</td>\n",
       "      <td>1.746704</td>\n",
       "      <td>0.922194</td>\n",
       "      <td>0.0001</td>\n",
       "    </tr>\n",
       "    <tr>\n",
       "      <th>4</th>\n",
       "      <td>1.706898</td>\n",
       "      <td>0.946020</td>\n",
       "      <td>1.572085</td>\n",
       "      <td>0.914894</td>\n",
       "      <td>0.0001</td>\n",
       "    </tr>\n",
       "  </tbody>\n",
       "</table>\n",
       "</div>"
      ],
      "text/plain": [
       "       loss  masked_rmse_clip  val_loss  val_masked_rmse_clip      lr\n",
       "0  4.654122          1.346634  2.693665              0.960090  0.0001\n",
       "1  2.652906          1.036692  2.271235              0.941658  0.0001\n",
       "2  2.225026          0.990700  1.972055              0.929821  0.0001\n",
       "3  1.927146          0.963956  1.746704              0.922194  0.0001\n",
       "4  1.706898          0.946020  1.572085              0.914894  0.0001"
      ]
     },
     "execution_count": 62,
     "metadata": {},
     "output_type": "execute_result"
    }
   ],
   "source": [
    "hist_df.head()"
   ]
  },
  {
   "cell_type": "code",
   "execution_count": 63,
   "metadata": {},
   "outputs": [],
   "source": [
    "hist_df.to_pickle(\"movielens10_users_embedding/ae_history.pkl\")"
   ]
  },
  {
   "cell_type": "code",
   "execution_count": null,
   "metadata": {},
   "outputs": [],
   "source": []
  }
 ],
 "metadata": {
  "kernelspec": {
   "display_name": "Python 3",
   "language": "python",
   "name": "python3"
  },
  "language_info": {
   "codemirror_mode": {
    "name": "ipython",
    "version": 3
   },
   "file_extension": ".py",
   "mimetype": "text/x-python",
   "name": "python",
   "nbconvert_exporter": "python",
   "pygments_lexer": "ipython3",
   "version": "3.8.2"
  }
 },
 "nbformat": 4,
 "nbformat_minor": 1
}
