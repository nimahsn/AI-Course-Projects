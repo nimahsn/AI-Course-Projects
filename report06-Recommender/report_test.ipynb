{
 "metadata": {
  "language_info": {
   "codemirror_mode": {
    "name": "ipython",
    "version": 3
   },
   "file_extension": ".py",
   "mimetype": "text/x-python",
   "name": "python",
   "nbconvert_exporter": "python",
   "pygments_lexer": "ipython3",
   "version": "3.8.2"
  },
  "orig_nbformat": 2,
  "kernelspec": {
   "name": "python382jvsc74a57bd0e59c2547108f3c1cd1401cc9ff684ac2b9de8cd9159ec08c8b469ef43cc8d4d7",
   "display_name": "Python 3.8.2 64-bit ('tf-gpu': conda)"
  }
 },
 "nbformat": 4,
 "nbformat_minor": 2,
 "cells": [
  {
   "cell_type": "code",
   "execution_count": 1,
   "metadata": {},
   "outputs": [],
   "source": [
    "import pandas as pd\n",
    "import models\n",
    "from recommenders import *"
   ]
  },
  {
   "cell_type": "code",
   "execution_count": 2,
   "outputs": [],
   "source": [
    "from sklearn.feature_extraction.text import TfidfVectorizer\n",
    "from joblib import dump, load"
   ],
   "metadata": {
    "collapsed": false,
    "pycharm": {
     "name": "#%%\n"
    }
   }
  },
  {
   "cell_type": "code",
   "execution_count": 3,
   "outputs": [
    {
     "output_type": "stream",
     "name": "stderr",
     "text": [
      "<ipython-input-3-8a3e7b26f09c>:1: ParserWarning: Falling back to the 'python' engine because the 'c' engine does not support regex separators (separators > 1 char and different from '\\s+' are interpreted as regex); you can avoid this warning by specifying engine='python'.\n  movies_names = pd.read_table(\"ml-10M100K/movies.dat\", sep=\"::\", names=[\"id\", \"name\", \"tags\"], index_col=\"id\")\n"
     ]
    },
    {
     "output_type": "execute_result",
     "data": {
      "text/plain": [
       "                                  name\n",
       "id                                    \n",
       "1                     Toy Story (1995)\n",
       "2                       Jumanji (1995)\n",
       "3              Grumpier Old Men (1995)\n",
       "4             Waiting to Exhale (1995)\n",
       "5   Father of the Bride Part II (1995)"
      ],
      "text/html": "<div>\n<style scoped>\n    .dataframe tbody tr th:only-of-type {\n        vertical-align: middle;\n    }\n\n    .dataframe tbody tr th {\n        vertical-align: top;\n    }\n\n    .dataframe thead th {\n        text-align: right;\n    }\n</style>\n<table border=\"1\" class=\"dataframe\">\n  <thead>\n    <tr style=\"text-align: right;\">\n      <th></th>\n      <th>name</th>\n    </tr>\n    <tr>\n      <th>id</th>\n      <th></th>\n    </tr>\n  </thead>\n  <tbody>\n    <tr>\n      <th>1</th>\n      <td>Toy Story (1995)</td>\n    </tr>\n    <tr>\n      <th>2</th>\n      <td>Jumanji (1995)</td>\n    </tr>\n    <tr>\n      <th>3</th>\n      <td>Grumpier Old Men (1995)</td>\n    </tr>\n    <tr>\n      <th>4</th>\n      <td>Waiting to Exhale (1995)</td>\n    </tr>\n    <tr>\n      <th>5</th>\n      <td>Father of the Bride Part II (1995)</td>\n    </tr>\n  </tbody>\n</table>\n</div>"
     },
     "metadata": {},
     "execution_count": 3
    }
   ],
   "source": [
    "movies_names = pd.read_table(\"ml-10M100K/movies.dat\", sep=\"::\", names=[\"id\", \"name\", \"tags\"], index_col=\"id\")\n",
    "movies_names.drop(axis=1, columns=[\"tags\"], inplace=True)\n",
    "movies_names.head()"
   ],
   "metadata": {
    "collapsed": false,
    "pycharm": {
     "name": "#%%\n"
    }
   }
  },
  {
   "cell_type": "code",
   "execution_count": 4,
   "outputs": [
    {
     "output_type": "execute_result",
     "data": {
      "text/plain": [
       "                                                       tag\n",
       "movieId                                                   \n",
       "1        Pixar Pixar Pixar animation Pixar animated fun...\n",
       "2        For children game animals Joe Johnston Robin W...\n",
       "3        Funniest Movies comedinha de velhinhos engraÃ§...\n",
       "4                                               girl movie\n",
       "5        steve martin pregnancy remake steve martin fam..."
      ],
      "text/html": "<div>\n<style scoped>\n    .dataframe tbody tr th:only-of-type {\n        vertical-align: middle;\n    }\n\n    .dataframe tbody tr th {\n        vertical-align: top;\n    }\n\n    .dataframe thead th {\n        text-align: right;\n    }\n</style>\n<table border=\"1\" class=\"dataframe\">\n  <thead>\n    <tr style=\"text-align: right;\">\n      <th></th>\n      <th>tag</th>\n    </tr>\n    <tr>\n      <th>movieId</th>\n      <th></th>\n    </tr>\n  </thead>\n  <tbody>\n    <tr>\n      <th>1</th>\n      <td>Pixar Pixar Pixar animation Pixar animated fun...</td>\n    </tr>\n    <tr>\n      <th>2</th>\n      <td>For children game animals Joe Johnston Robin W...</td>\n    </tr>\n    <tr>\n      <th>3</th>\n      <td>Funniest Movies comedinha de velhinhos engraÃ§...</td>\n    </tr>\n    <tr>\n      <th>4</th>\n      <td>girl movie</td>\n    </tr>\n    <tr>\n      <th>5</th>\n      <td>steve martin pregnancy remake steve martin fam...</td>\n    </tr>\n  </tbody>\n</table>\n</div>"
     },
     "metadata": {},
     "execution_count": 4
    }
   ],
   "source": [
    "movie_tags = pd.read_pickle(\"movielens10_tags_embedding/tags_all.pkl\")\n",
    "movie_tags.set_index(\"movieId\", inplace=True)\n",
    "movie_tags.head()"
   ],
   "metadata": {
    "collapsed": false,
    "pycharm": {
     "name": "#%%\n"
    }
   }
  },
  {
   "cell_type": "code",
   "execution_count": 5,
   "outputs": [],
   "source": [
    "collab_movies = pd.read_pickle(\"movielens10_users_embedding/ratings_train.pkl\").columns.to_numpy()"
   ],
   "metadata": {
    "collapsed": false,
    "pycharm": {
     "name": "#%%\n"
    }
   }
  },
  {
   "cell_type": "code",
   "execution_count": 6,
   "outputs": [
    {
     "output_type": "execute_result",
     "data": {
      "text/plain": [
       "(20685, 8023)"
      ]
     },
     "metadata": {},
     "execution_count": 6
    }
   ],
   "source": [
    "users_ratings: \"pd.DataFrame\" = pd.concat([pd.read_pickle(\"movielens10_users_embedding/ratings_train.pkl\"),\n",
    "                                           pd.read_pickle(\"movielens10_users_embedding/ratings_valid.pkl\"),\n",
    "                                           pd.read_pickle(\"movielens10_users_embedding/ratings_test.pkl\")])\n",
    "users_ratings.shape"
   ],
   "metadata": {
    "collapsed": false,
    "pycharm": {
     "name": "#%%\n"
    }
   }
  },
  {
   "cell_type": "code",
   "execution_count": 7,
   "outputs": [],
   "source": [
    "auto_rec_path = \"movielens10_users_embedding/auto_encoder\"\n",
    "collab_recommender = RatingBasedRecommender(auto_rec_path, collab_movies)"
   ],
   "metadata": {
    "collapsed": false,
    "pycharm": {
     "name": "#%%\n"
    }
   }
  },
  {
   "cell_type": "code",
   "execution_count": 91,
   "outputs": [],
   "source": [
    "user = users_ratings.sample(1)\n",
    "recomms = collab_recommender.recommend(user.to_numpy(), 10, movies_names)\n",
    "# print(movies_names.loc[recomms])"
   ],
   "metadata": {
    "collapsed": false,
    "pycharm": {
     "name": "#%%\n"
    }
   }
  },
  {
   "cell_type": "code",
   "execution_count": 92,
   "outputs": [],
   "source": [
    "# recomms[\"names\"] = movies_names.loc[recomms.index]"
   ],
   "metadata": {
    "collapsed": false,
    "pycharm": {
     "name": "#%%\n"
    }
   }
  },
  {
   "cell_type": "code",
   "execution_count": 93,
   "outputs": [
    {
     "output_type": "execute_result",
     "data": {
      "text/plain": [
       "         rating                                               name\n",
       "2762   4.472802                            Sixth Sense, The (1999)\n",
       "745    4.447361             Wallace & Gromit: A Close Shave (1995)\n",
       "1198   4.354260  Raiders of the Lost Ark (Indiana Jones and the...\n",
       "527    4.330620                            Schindler's List (1993)\n",
       "318    4.314923                   Shawshank Redemption, The (1994)\n",
       "3114   4.312569                                 Toy Story 2 (1999)\n",
       "58559  4.292597                            Dark Knight, The (2008)\n",
       "6539   4.288939  Pirates of the Caribbean: The Curse of the Bla...\n",
       "260    4.288165  Star Wars: Episode IV - A New Hope (a.k.a. Sta...\n",
       "150    4.275661                                   Apollo 13 (1995)"
      ],
      "text/html": "<div>\n<style scoped>\n    .dataframe tbody tr th:only-of-type {\n        vertical-align: middle;\n    }\n\n    .dataframe tbody tr th {\n        vertical-align: top;\n    }\n\n    .dataframe thead th {\n        text-align: right;\n    }\n</style>\n<table border=\"1\" class=\"dataframe\">\n  <thead>\n    <tr style=\"text-align: right;\">\n      <th></th>\n      <th>rating</th>\n      <th>name</th>\n    </tr>\n  </thead>\n  <tbody>\n    <tr>\n      <th>2762</th>\n      <td>4.472802</td>\n      <td>Sixth Sense, The (1999)</td>\n    </tr>\n    <tr>\n      <th>745</th>\n      <td>4.447361</td>\n      <td>Wallace &amp; Gromit: A Close Shave (1995)</td>\n    </tr>\n    <tr>\n      <th>1198</th>\n      <td>4.354260</td>\n      <td>Raiders of the Lost Ark (Indiana Jones and the...</td>\n    </tr>\n    <tr>\n      <th>527</th>\n      <td>4.330620</td>\n      <td>Schindler's List (1993)</td>\n    </tr>\n    <tr>\n      <th>318</th>\n      <td>4.314923</td>\n      <td>Shawshank Redemption, The (1994)</td>\n    </tr>\n    <tr>\n      <th>3114</th>\n      <td>4.312569</td>\n      <td>Toy Story 2 (1999)</td>\n    </tr>\n    <tr>\n      <th>58559</th>\n      <td>4.292597</td>\n      <td>Dark Knight, The (2008)</td>\n    </tr>\n    <tr>\n      <th>6539</th>\n      <td>4.288939</td>\n      <td>Pirates of the Caribbean: The Curse of the Bla...</td>\n    </tr>\n    <tr>\n      <th>260</th>\n      <td>4.288165</td>\n      <td>Star Wars: Episode IV - A New Hope (a.k.a. Sta...</td>\n    </tr>\n    <tr>\n      <th>150</th>\n      <td>4.275661</td>\n      <td>Apollo 13 (1995)</td>\n    </tr>\n  </tbody>\n</table>\n</div>"
     },
     "metadata": {},
     "execution_count": 93
    }
   ],
   "source": [
    "recomms"
   ],
   "metadata": {
    "collapsed": false,
    "pycharm": {
     "name": "#%%\n"
    }
   }
  },
  {
   "cell_type": "code",
   "execution_count": 94,
   "outputs": [
    {
     "output_type": "execute_result",
     "data": {
      "text/plain": [
       "movieId  1      2      3      4      5      6      7      8      9      10     \\\n",
       "62         4.0    0.0    3.0    0.0    0.0    0.0    0.0    0.0    0.0    0.0   \n",
       "\n",
       "movieId  ...  63436  63853  63859  63876  63992  64030  64497  64614  64620  \\\n",
       "62       ...    0.0    0.0    0.0    0.0    0.0    0.0    0.0    0.0    0.0   \n",
       "\n",
       "movieId  64957  \n",
       "62         0.0  \n",
       "\n",
       "[1 rows x 8023 columns]"
      ],
      "text/html": "<div>\n<style scoped>\n    .dataframe tbody tr th:only-of-type {\n        vertical-align: middle;\n    }\n\n    .dataframe tbody tr th {\n        vertical-align: top;\n    }\n\n    .dataframe thead th {\n        text-align: right;\n    }\n</style>\n<table border=\"1\" class=\"dataframe\">\n  <thead>\n    <tr style=\"text-align: right;\">\n      <th>movieId</th>\n      <th>1</th>\n      <th>2</th>\n      <th>3</th>\n      <th>4</th>\n      <th>5</th>\n      <th>6</th>\n      <th>7</th>\n      <th>8</th>\n      <th>9</th>\n      <th>10</th>\n      <th>...</th>\n      <th>63436</th>\n      <th>63853</th>\n      <th>63859</th>\n      <th>63876</th>\n      <th>63992</th>\n      <th>64030</th>\n      <th>64497</th>\n      <th>64614</th>\n      <th>64620</th>\n      <th>64957</th>\n    </tr>\n  </thead>\n  <tbody>\n    <tr>\n      <th>62</th>\n      <td>4.0</td>\n      <td>0.0</td>\n      <td>3.0</td>\n      <td>0.0</td>\n      <td>0.0</td>\n      <td>0.0</td>\n      <td>0.0</td>\n      <td>0.0</td>\n      <td>0.0</td>\n      <td>0.0</td>\n      <td>...</td>\n      <td>0.0</td>\n      <td>0.0</td>\n      <td>0.0</td>\n      <td>0.0</td>\n      <td>0.0</td>\n      <td>0.0</td>\n      <td>0.0</td>\n      <td>0.0</td>\n      <td>0.0</td>\n      <td>0.0</td>\n    </tr>\n  </tbody>\n</table>\n<p>1 rows × 8023 columns</p>\n</div>"
     },
     "metadata": {},
     "execution_count": 94
    }
   ],
   "source": [
    "user"
   ],
   "metadata": {
    "collapsed": false,
    "pycharm": {
     "name": "#%%\n"
    }
   }
  },
  {
   "cell_type": "code",
   "execution_count": 95,
   "outputs": [
    {
     "output_type": "execute_result",
     "data": {
      "text/plain": [
       "                                               name\n",
       "movieId                                            \n",
       "1356                Star Trek: First Contact (1996)\n",
       "1073     Willy Wonka & the Chocolate Factory (1971)\n",
       "832                                   Ransom (1996)\n",
       "780            Independence Day (a.k.a. ID4) (1996)\n",
       "708             Truth About Cats & Dogs, The (1996)\n",
       "788                     Nutty Professor, The (1996)\n",
       "748                             Arrival, The (1996)\n",
       "736                                  Twister (1996)\n",
       "719                             Multiplicity (1996)\n",
       "1                                  Toy Story (1995)"
      ],
      "text/html": "<div>\n<style scoped>\n    .dataframe tbody tr th:only-of-type {\n        vertical-align: middle;\n    }\n\n    .dataframe tbody tr th {\n        vertical-align: top;\n    }\n\n    .dataframe thead th {\n        text-align: right;\n    }\n</style>\n<table border=\"1\" class=\"dataframe\">\n  <thead>\n    <tr style=\"text-align: right;\">\n      <th></th>\n      <th>name</th>\n    </tr>\n    <tr>\n      <th>movieId</th>\n      <th></th>\n    </tr>\n  </thead>\n  <tbody>\n    <tr>\n      <th>1356</th>\n      <td>Star Trek: First Contact (1996)</td>\n    </tr>\n    <tr>\n      <th>1073</th>\n      <td>Willy Wonka &amp; the Chocolate Factory (1971)</td>\n    </tr>\n    <tr>\n      <th>832</th>\n      <td>Ransom (1996)</td>\n    </tr>\n    <tr>\n      <th>780</th>\n      <td>Independence Day (a.k.a. ID4) (1996)</td>\n    </tr>\n    <tr>\n      <th>708</th>\n      <td>Truth About Cats &amp; Dogs, The (1996)</td>\n    </tr>\n    <tr>\n      <th>788</th>\n      <td>Nutty Professor, The (1996)</td>\n    </tr>\n    <tr>\n      <th>748</th>\n      <td>Arrival, The (1996)</td>\n    </tr>\n    <tr>\n      <th>736</th>\n      <td>Twister (1996)</td>\n    </tr>\n    <tr>\n      <th>719</th>\n      <td>Multiplicity (1996)</td>\n    </tr>\n    <tr>\n      <th>1</th>\n      <td>Toy Story (1995)</td>\n    </tr>\n  </tbody>\n</table>\n</div>"
     },
     "metadata": {},
     "execution_count": 95
    }
   ],
   "source": [
    "movies_names.loc[user.where(user>0).dropna(axis=1).sort_values(by=user.index[0], ascending=False, axis=1).columns].head(10)"
   ],
   "metadata": {
    "collapsed": false,
    "pycharm": {
     "name": "#%%\n"
    }
   }
  },
  {
   "cell_type": "code",
   "execution_count": 43,
   "outputs": [],
   "source": [
    "tag_recomm = TagBasedRecommender(autoencoder_path=\"movielens10_tags_embedding/auto_encoder\", vectorizer_path=\"movielens10_tags_embedding/vectorizer.joblib\", n_layers=12)"
   ],
   "metadata": {
    "collapsed": false,
    "pycharm": {
     "name": "#%%\n"
    }
   }
  },
  {
   "cell_type": "code",
   "execution_count": 44,
   "outputs": [
    {
     "name": "stdout",
     "output_type": "stream",
     "text": [
      "movieId     1         2         3         4         5         6         7      \\\n",
      "movieId                                                                         \n",
      "1        1.000000  0.363732  0.413832  0.317689  0.327223  0.043090  0.354063   \n",
      "2        0.363732  1.000000  0.411794  0.152473  0.602107  0.480541  0.536454   \n",
      "3        0.413832  0.411794  1.000000  0.414638  0.418655  0.207821  0.463287   \n",
      "4        0.317689  0.152473  0.414638  1.000000  0.169567  0.116914  0.145614   \n",
      "5        0.327223  0.602107  0.418655  0.169567  1.000000  0.459447  0.693651   \n",
      "\n",
      "movieId     8         9         10     ...     64942     64957     64959  \\\n",
      "movieId                                ...                                 \n",
      "1        0.431334  0.389701  0.421854  ...  0.287272  0.107831  0.104651   \n",
      "2        0.170911  0.593584  0.535112  ...  0.670030  0.565404  0.563311   \n",
      "3        0.336980  0.464244  0.496210  ...  0.419102  0.249719  0.260396   \n",
      "4        0.575577  0.233548  0.272443  ...  0.148808  0.107168  0.118676   \n",
      "5        0.113149  0.483202  0.455144  ...  0.697964  0.611428  0.493086   \n",
      "\n",
      "movieId     64983     64990     64993     65006     65037     65126     65130  \n",
      "movieId                                                                        \n",
      "1        0.272064  0.285843  0.241223  0.255012  0.247911  0.423557  0.176165  \n",
      "2        0.507120  0.342101  0.355149  0.461534  0.604815  0.456145  0.603556  \n",
      "3        0.478404  0.253293  0.311651  0.256839  0.379388  0.342820  0.320336  \n",
      "4        0.161512  0.121510  0.240222  0.063126  0.154329  0.264981  0.143243  \n",
      "5        0.556047  0.188727  0.482795  0.605278  0.575027  0.233523  0.593827  \n",
      "\n",
      "[5 rows x 7601 columns]\n"
     ]
    }
   ],
   "source": [
    "tag_recomm.calculate_similarity_matrix(movie_tags)"
   ],
   "metadata": {
    "collapsed": false,
    "pycharm": {
     "name": "#%%\n"
    }
   }
  },
  {
   "cell_type": "code",
   "execution_count": 41,
   "outputs": [
    {
     "data": {
      "text/plain": "              sim\nmovieId          \n3448     0.757875\n500      0.755184\n1246     0.740454\n3105     0.728966\n3283     0.725236\n...           ...\n62439    0.025768\n62792    0.025768\n63033    0.025768\n51007    0.025768\n3539     0.025768\n\n[7600 rows x 1 columns]",
      "text/html": "<div>\n<style scoped>\n    .dataframe tbody tr th:only-of-type {\n        vertical-align: middle;\n    }\n\n    .dataframe tbody tr th {\n        vertical-align: top;\n    }\n\n    .dataframe thead th {\n        text-align: right;\n    }\n</style>\n<table border=\"1\" class=\"dataframe\">\n  <thead>\n    <tr style=\"text-align: right;\">\n      <th></th>\n      <th>sim</th>\n    </tr>\n    <tr>\n      <th>movieId</th>\n      <th></th>\n    </tr>\n  </thead>\n  <tbody>\n    <tr>\n      <th>3448</th>\n      <td>0.757875</td>\n    </tr>\n    <tr>\n      <th>500</th>\n      <td>0.755184</td>\n    </tr>\n    <tr>\n      <th>1246</th>\n      <td>0.740454</td>\n    </tr>\n    <tr>\n      <th>3105</th>\n      <td>0.728966</td>\n    </tr>\n    <tr>\n      <th>3283</th>\n      <td>0.725236</td>\n    </tr>\n    <tr>\n      <th>...</th>\n      <td>...</td>\n    </tr>\n    <tr>\n      <th>62439</th>\n      <td>0.025768</td>\n    </tr>\n    <tr>\n      <th>62792</th>\n      <td>0.025768</td>\n    </tr>\n    <tr>\n      <th>63033</th>\n      <td>0.025768</td>\n    </tr>\n    <tr>\n      <th>51007</th>\n      <td>0.025768</td>\n    </tr>\n    <tr>\n      <th>3539</th>\n      <td>0.025768</td>\n    </tr>\n  </tbody>\n</table>\n<p>7600 rows × 1 columns</p>\n</div>"
     },
     "execution_count": 41,
     "metadata": {},
     "output_type": "execute_result"
    }
   ],
   "source": [
    "d = pd.DataFrame(tag_recomm.similarity_matrix.loc[2])\n",
    "d.columns=['sim']\n",
    "d.head()\n",
    "d.sort_values(by='sim', ascending=False).drop(index=2)"
   ],
   "metadata": {
    "collapsed": false,
    "pycharm": {
     "name": "#%%\n"
    }
   }
  },
  {
   "cell_type": "code",
   "execution_count": 56,
   "outputs": [
    {
     "data": {
      "text/plain": "         similarity                                            name\nmovieId                                                            \n3114       0.776632                              Toy Story 2 (1999)\n2018       0.717052                                    Bambi (1942)\n2355       0.709286                            Bug's Life, A (1998)\n2080       0.693575                       Lady and the Tramp (1955)\n8961       0.632617                         Incredibles, The (2004)\n3964       0.630069  Adventures of Ichabod and Mr. Toad, The (1949)\n5533       0.617095              Children On Their Birthdays (2002)\n6377       0.611607                             Finding Nemo (2003)\n3615       0.606088                                 Dinosaur (2000)\n5444       0.604657                            Lilo & Stitch (2002)",
      "text/html": "<div>\n<style scoped>\n    .dataframe tbody tr th:only-of-type {\n        vertical-align: middle;\n    }\n\n    .dataframe tbody tr th {\n        vertical-align: top;\n    }\n\n    .dataframe thead th {\n        text-align: right;\n    }\n</style>\n<table border=\"1\" class=\"dataframe\">\n  <thead>\n    <tr style=\"text-align: right;\">\n      <th></th>\n      <th>similarity</th>\n      <th>name</th>\n    </tr>\n    <tr>\n      <th>movieId</th>\n      <th></th>\n      <th></th>\n    </tr>\n  </thead>\n  <tbody>\n    <tr>\n      <th>3114</th>\n      <td>0.776632</td>\n      <td>Toy Story 2 (1999)</td>\n    </tr>\n    <tr>\n      <th>2018</th>\n      <td>0.717052</td>\n      <td>Bambi (1942)</td>\n    </tr>\n    <tr>\n      <th>2355</th>\n      <td>0.709286</td>\n      <td>Bug's Life, A (1998)</td>\n    </tr>\n    <tr>\n      <th>2080</th>\n      <td>0.693575</td>\n      <td>Lady and the Tramp (1955)</td>\n    </tr>\n    <tr>\n      <th>8961</th>\n      <td>0.632617</td>\n      <td>Incredibles, The (2004)</td>\n    </tr>\n    <tr>\n      <th>3964</th>\n      <td>0.630069</td>\n      <td>Adventures of Ichabod and Mr. Toad, The (1949)</td>\n    </tr>\n    <tr>\n      <th>5533</th>\n      <td>0.617095</td>\n      <td>Children On Their Birthdays (2002)</td>\n    </tr>\n    <tr>\n      <th>6377</th>\n      <td>0.611607</td>\n      <td>Finding Nemo (2003)</td>\n    </tr>\n    <tr>\n      <th>3615</th>\n      <td>0.606088</td>\n      <td>Dinosaur (2000)</td>\n    </tr>\n    <tr>\n      <th>5444</th>\n      <td>0.604657</td>\n      <td>Lilo &amp; Stitch (2002)</td>\n    </tr>\n  </tbody>\n</table>\n</div>"
     },
     "execution_count": 56,
     "metadata": {},
     "output_type": "execute_result"
    }
   ],
   "source": [
    "tag_recomm.recommend(movies_names, 1, 10)"
   ],
   "metadata": {
    "collapsed": false,
    "pycharm": {
     "name": "#%%\n"
    }
   }
  },
  {
   "cell_type": "code",
   "execution_count": 57,
   "outputs": [
    {
     "data": {
      "text/plain": "name    Toy Story (1995)\nName: 1, dtype: object"
     },
     "execution_count": 57,
     "metadata": {},
     "output_type": "execute_result"
    }
   ],
   "source": [
    "movies_names.loc[1]"
   ],
   "metadata": {
    "collapsed": false,
    "pycharm": {
     "name": "#%%\n"
    }
   }
  },
  {
   "cell_type": "code",
   "execution_count": 70,
   "outputs": [],
   "source": [
    "tag_model = keras.models.load_model(\"movielens10_tags_embedding/auto_encoder\")"
   ],
   "metadata": {
    "collapsed": false,
    "pycharm": {
     "name": "#%%\n"
    }
   }
  },
  {
   "cell_type": "code",
   "execution_count": 73,
   "outputs": [
    {
     "name": "stdout",
     "output_type": "stream",
     "text": [
      "Model: \"sequential_1\"\n",
      "_________________________________________________________________\n",
      "Layer (type)                 Output Shape              Param #   \n",
      "=================================================================\n",
      "batch_normalization_10 (Batc (None, 11352)             45408     \n",
      "_________________________________________________________________\n",
      "dropout_10 (Dropout)         (None, 11352)             0         \n",
      "_________________________________________________________________\n",
      "dense_10 (Dense)             (None, 3000)              34059000  \n",
      "_________________________________________________________________\n",
      "batch_normalization_11 (Batc (None, 3000)              12000     \n",
      "_________________________________________________________________\n",
      "dropout_11 (Dropout)         (None, 3000)              0         \n",
      "_________________________________________________________________\n",
      "dense_11 (Dense)             (None, 1000)              3001000   \n",
      "_________________________________________________________________\n",
      "batch_normalization_12 (Batc (None, 1000)              4000      \n",
      "_________________________________________________________________\n",
      "dropout_12 (Dropout)         (None, 1000)              0         \n",
      "_________________________________________________________________\n",
      "dense_12 (Dense)             (None, 500)               500500    \n",
      "_________________________________________________________________\n",
      "batch_normalization_13 (Batc (None, 500)               2000      \n",
      "_________________________________________________________________\n",
      "dropout_13 (Dropout)         (None, 500)               0         \n",
      "_________________________________________________________________\n",
      "dense_13 (Dense)             (None, 200)               100200    \n",
      "_________________________________________________________________\n",
      "batch_normalization_14 (Batc (None, 200)               800       \n",
      "_________________________________________________________________\n",
      "dropout_14 (Dropout)         (None, 200)               0         \n",
      "_________________________________________________________________\n",
      "dense_14 (Dense)             (None, 500)               100500    \n",
      "_________________________________________________________________\n",
      "batch_normalization_15 (Batc (None, 500)               2000      \n",
      "_________________________________________________________________\n",
      "dropout_15 (Dropout)         (None, 500)               0         \n",
      "_________________________________________________________________\n",
      "dense_15 (Dense)             (None, 1000)              501000    \n",
      "_________________________________________________________________\n",
      "batch_normalization_16 (Batc (None, 1000)              4000      \n",
      "_________________________________________________________________\n",
      "dropout_16 (Dropout)         (None, 1000)              0         \n",
      "_________________________________________________________________\n",
      "dense_16 (Dense)             (None, 3000)              3003000   \n",
      "_________________________________________________________________\n",
      "batch_normalization_17 (Batc (None, 3000)              12000     \n",
      "_________________________________________________________________\n",
      "dropout_17 (Dropout)         (None, 3000)              0         \n",
      "_________________________________________________________________\n",
      "dense_17 (Dense)             (None, 11352)             34067352  \n",
      "=================================================================\n",
      "Total params: 75,414,760\n",
      "Trainable params: 75,373,656\n",
      "Non-trainable params: 41,104\n",
      "_________________________________________________________________\n"
     ]
    }
   ],
   "source": [
    "tag_model.summary()"
   ],
   "metadata": {
    "collapsed": false,
    "pycharm": {
     "name": "#%%\n"
    }
   }
  },
  {
   "cell_type": "code",
   "execution_count": 118,
   "outputs": [
    {
     "name": "stdout",
     "output_type": "stream",
     "text": [
      "Model: \"sequential_2\"\n",
      "_________________________________________________________________\n",
      "Layer (type)                 Output Shape              Param #   \n",
      "=================================================================\n",
      "batch_normalization_10 (Batc (None, 11352)             45408     \n",
      "_________________________________________________________________\n",
      "dropout_10 (Dropout)         (None, 11352)             0         \n",
      "_________________________________________________________________\n",
      "dense_10 (Dense)             (None, 3000)              34059000  \n",
      "_________________________________________________________________\n",
      "batch_normalization_11 (Batc (None, 3000)              12000     \n",
      "_________________________________________________________________\n",
      "dropout_11 (Dropout)         (None, 3000)              0         \n",
      "_________________________________________________________________\n",
      "dense_11 (Dense)             (None, 1000)              3001000   \n",
      "_________________________________________________________________\n",
      "batch_normalization_12 (Batc (None, 1000)              4000      \n",
      "_________________________________________________________________\n",
      "dropout_12 (Dropout)         (None, 1000)              0         \n",
      "_________________________________________________________________\n",
      "dense_12 (Dense)             (None, 500)               500500    \n",
      "_________________________________________________________________\n",
      "batch_normalization_13 (Batc (None, 500)               2000      \n",
      "_________________________________________________________________\n",
      "dropout_13 (Dropout)         (None, 500)               0         \n",
      "_________________________________________________________________\n",
      "dense_13 (Dense)             (None, 200)               100200    \n",
      "=================================================================\n",
      "Total params: 37,724,108\n",
      "Trainable params: 37,692,404\n",
      "Non-trainable params: 31,704\n",
      "_________________________________________________________________\n"
     ]
    }
   ],
   "source": [
    "encoder = keras.models.Sequential()\n",
    "encoder.add(tag_model.input)\n",
    "for layer in tag_model.layers[:12]:\n",
    "    encoder.add(layer)\n",
    "encoder.summary()"
   ],
   "metadata": {
    "collapsed": false,
    "pycharm": {
     "name": "#%%\n"
    }
   }
  },
  {
   "cell_type": "code",
   "execution_count": 103,
   "outputs": [
    {
     "data": {
      "text/plain": "tag    Pixar Pixar Pixar animation Pixar animated fun...\nName: 1, dtype: object"
     },
     "execution_count": 103,
     "metadata": {},
     "output_type": "execute_result"
    }
   ],
   "source": [
    "# movie_tags.iloc[0]"
   ],
   "metadata": {
    "collapsed": false,
    "pycharm": {
     "name": "#%%\n"
    }
   }
  },
  {
   "cell_type": "code",
   "execution_count": 131,
   "outputs": [],
   "source": [
    "p = encoder.predict(vectorizer.transform(movie_tags[\"tag\"]).todense())\n",
    "p = pd.DataFrame(data=p, index=movie_tags.index)"
   ],
   "metadata": {
    "collapsed": false,
    "pycharm": {
     "name": "#%%\n"
    }
   }
  },
  {
   "cell_type": "code",
   "execution_count": 126,
   "outputs": [
    {
     "data": {
      "text/plain": "                                                       tag\nmovieId                                                   \n1        Pixar Pixar Pixar animation Pixar animated fun...\n2        For children game animals Joe Johnston Robin W...\n3        Funniest Movies comedinha de velhinhos engraÃ§...\n4                                               girl movie\n5        steve martin pregnancy remake steve martin fam...\n...                                                    ...\n64993                         anime anime drama Japan love\n65006    doppleganger Nudity (Rear) Nudity (Topless - N...\n65037    asperger's syndrome autism based on novel fake...\n65126                        Chuck Palahniuk based on book\n65130                                            toplist08\n\n[7601 rows x 1 columns]",
      "text/html": "<div>\n<style scoped>\n    .dataframe tbody tr th:only-of-type {\n        vertical-align: middle;\n    }\n\n    .dataframe tbody tr th {\n        vertical-align: top;\n    }\n\n    .dataframe thead th {\n        text-align: right;\n    }\n</style>\n<table border=\"1\" class=\"dataframe\">\n  <thead>\n    <tr style=\"text-align: right;\">\n      <th></th>\n      <th>tag</th>\n    </tr>\n    <tr>\n      <th>movieId</th>\n      <th></th>\n    </tr>\n  </thead>\n  <tbody>\n    <tr>\n      <th>1</th>\n      <td>Pixar Pixar Pixar animation Pixar animated fun...</td>\n    </tr>\n    <tr>\n      <th>2</th>\n      <td>For children game animals Joe Johnston Robin W...</td>\n    </tr>\n    <tr>\n      <th>3</th>\n      <td>Funniest Movies comedinha de velhinhos engraÃ§...</td>\n    </tr>\n    <tr>\n      <th>4</th>\n      <td>girl movie</td>\n    </tr>\n    <tr>\n      <th>5</th>\n      <td>steve martin pregnancy remake steve martin fam...</td>\n    </tr>\n    <tr>\n      <th>...</th>\n      <td>...</td>\n    </tr>\n    <tr>\n      <th>64993</th>\n      <td>anime anime drama Japan love</td>\n    </tr>\n    <tr>\n      <th>65006</th>\n      <td>doppleganger Nudity (Rear) Nudity (Topless - N...</td>\n    </tr>\n    <tr>\n      <th>65037</th>\n      <td>asperger's syndrome autism based on novel fake...</td>\n    </tr>\n    <tr>\n      <th>65126</th>\n      <td>Chuck Palahniuk based on book</td>\n    </tr>\n    <tr>\n      <th>65130</th>\n      <td>toplist08</td>\n    </tr>\n  </tbody>\n</table>\n<p>7601 rows × 1 columns</p>\n</div>"
     },
     "execution_count": 126,
     "metadata": {},
     "output_type": "execute_result"
    }
   ],
   "source": [
    "movie_tags[\"tag\"]\n",
    "\n",
    "movie_tags"
   ],
   "metadata": {
    "collapsed": false,
    "pycharm": {
     "name": "#%%\n"
    }
   }
  },
  {
   "cell_type": "code",
   "execution_count": 128,
   "outputs": [
    {
     "data": {
      "text/plain": "tag    Pixar Pixar Pixar animation Pixar animated fun...\nName: 1, dtype: object"
     },
     "execution_count": 128,
     "metadata": {},
     "output_type": "execute_result"
    }
   ],
   "source": [
    "movie_tags.loc[1]"
   ],
   "metadata": {
    "collapsed": false,
    "pycharm": {
     "name": "#%%\n"
    }
   }
  },
  {
   "cell_type": "code",
   "execution_count": 132,
   "outputs": [
    {
     "data": {
      "text/plain": "              0         1         2         3         4         5    \\\nmovieId                                                               \n1        0.000000  0.000000  0.000000  0.000000  0.000000  1.136376   \n2        0.000000  0.000000  0.000000  3.092935  1.575060  3.963101   \n3        0.000000  2.113630  0.000000  0.559432  0.271731  2.274636   \n4        0.000000  1.150429  3.093085  0.000000  0.000000  1.385180   \n5        0.000000  0.000000  0.000000  1.071377  0.627913  0.807075   \n...           ...       ...       ...       ...       ...       ...   \n64993    0.000000  0.000000  1.790812  0.410538  0.000000  1.657879   \n65006    0.000000  0.000000  0.000000  8.017126  0.000000  5.211590   \n65037    0.365008  0.000000  0.000000  0.830745  0.247003  2.953942   \n65126    4.360619  5.630291  0.000000  0.000000  0.870236  2.482337   \n65130    3.305821  1.691159  0.000000  2.721753  4.279294  0.769289   \n\n               6         7         8         9    ...       190       191  \\\nmovieId                                           ...                       \n1         0.000000  0.928714  1.527924  0.000000  ...  0.000000  0.000000   \n2         4.469917  0.000000  0.000000  0.545839  ...  0.000000  0.000000   \n3         0.000000  1.354008  0.000000  2.300522  ...  0.000000  0.000000   \n4         0.000000  0.917971  0.288340  1.389271  ...  0.000000  0.000000   \n5         0.000000  0.000000  0.000000  0.502802  ...  0.000000  0.000000   \n...            ...       ...       ...       ...  ...       ...       ...   \n64993     0.000000  0.967386  0.000000  0.049154  ...  0.197314  0.000000   \n65006    11.065426  0.000000  0.000000  0.000000  ...  0.000000  0.000000   \n65037     2.298719  0.000000  0.000000  1.865382  ...  0.000000  0.897502   \n65126     0.000000  0.441844  4.364450  1.371433  ...  0.000000  0.000000   \n65130     0.000000  0.000000  0.000000  1.238771  ...  0.055781  0.000000   \n\n              192       193       194        195       196       197  \\\nmovieId                                                                \n1        0.000000  0.000000  0.126168   0.000000  0.000000  0.000000   \n2        2.751279  0.000000  0.000000   0.719949  0.000000  0.928765   \n3        0.649049  0.695271  0.000000   0.000000  0.000000  0.000000   \n4        0.000000  1.119013  2.710472   0.000000  0.000000  0.000000   \n5        2.960604  0.000000  0.000000   0.120545  3.225163  1.149298   \n...           ...       ...       ...        ...       ...       ...   \n64993    0.685837  1.282354  0.000000   1.912245  0.126529  1.069532   \n65006    3.246121  0.000000  0.000000  10.369312  6.046316  7.602953   \n65037    2.766974  0.000000  0.000000   1.003160  2.174779  2.200910   \n65126    2.244854  0.000000  0.000000   0.000000  0.000000  1.285231   \n65130    2.985070  0.000000  0.000000   1.513857  1.848415  1.557703   \n\n              198       199  \nmovieId                      \n1        0.000000  0.000000  \n2        0.000000  0.000000  \n3        0.000000  0.000000  \n4        0.000000  0.000000  \n5        0.686264  0.000000  \n...           ...       ...  \n64993    0.000000  0.000000  \n65006    0.000000  0.000000  \n65037    0.000000  0.000000  \n65126    1.157987  0.000000  \n65130    0.000000  1.547755  \n\n[7601 rows x 200 columns]",
      "text/html": "<div>\n<style scoped>\n    .dataframe tbody tr th:only-of-type {\n        vertical-align: middle;\n    }\n\n    .dataframe tbody tr th {\n        vertical-align: top;\n    }\n\n    .dataframe thead th {\n        text-align: right;\n    }\n</style>\n<table border=\"1\" class=\"dataframe\">\n  <thead>\n    <tr style=\"text-align: right;\">\n      <th></th>\n      <th>0</th>\n      <th>1</th>\n      <th>2</th>\n      <th>3</th>\n      <th>4</th>\n      <th>5</th>\n      <th>6</th>\n      <th>7</th>\n      <th>8</th>\n      <th>9</th>\n      <th>...</th>\n      <th>190</th>\n      <th>191</th>\n      <th>192</th>\n      <th>193</th>\n      <th>194</th>\n      <th>195</th>\n      <th>196</th>\n      <th>197</th>\n      <th>198</th>\n      <th>199</th>\n    </tr>\n    <tr>\n      <th>movieId</th>\n      <th></th>\n      <th></th>\n      <th></th>\n      <th></th>\n      <th></th>\n      <th></th>\n      <th></th>\n      <th></th>\n      <th></th>\n      <th></th>\n      <th></th>\n      <th></th>\n      <th></th>\n      <th></th>\n      <th></th>\n      <th></th>\n      <th></th>\n      <th></th>\n      <th></th>\n      <th></th>\n      <th></th>\n    </tr>\n  </thead>\n  <tbody>\n    <tr>\n      <th>1</th>\n      <td>0.000000</td>\n      <td>0.000000</td>\n      <td>0.000000</td>\n      <td>0.000000</td>\n      <td>0.000000</td>\n      <td>1.136376</td>\n      <td>0.000000</td>\n      <td>0.928714</td>\n      <td>1.527924</td>\n      <td>0.000000</td>\n      <td>...</td>\n      <td>0.000000</td>\n      <td>0.000000</td>\n      <td>0.000000</td>\n      <td>0.000000</td>\n      <td>0.126168</td>\n      <td>0.000000</td>\n      <td>0.000000</td>\n      <td>0.000000</td>\n      <td>0.000000</td>\n      <td>0.000000</td>\n    </tr>\n    <tr>\n      <th>2</th>\n      <td>0.000000</td>\n      <td>0.000000</td>\n      <td>0.000000</td>\n      <td>3.092935</td>\n      <td>1.575060</td>\n      <td>3.963101</td>\n      <td>4.469917</td>\n      <td>0.000000</td>\n      <td>0.000000</td>\n      <td>0.545839</td>\n      <td>...</td>\n      <td>0.000000</td>\n      <td>0.000000</td>\n      <td>2.751279</td>\n      <td>0.000000</td>\n      <td>0.000000</td>\n      <td>0.719949</td>\n      <td>0.000000</td>\n      <td>0.928765</td>\n      <td>0.000000</td>\n      <td>0.000000</td>\n    </tr>\n    <tr>\n      <th>3</th>\n      <td>0.000000</td>\n      <td>2.113630</td>\n      <td>0.000000</td>\n      <td>0.559432</td>\n      <td>0.271731</td>\n      <td>2.274636</td>\n      <td>0.000000</td>\n      <td>1.354008</td>\n      <td>0.000000</td>\n      <td>2.300522</td>\n      <td>...</td>\n      <td>0.000000</td>\n      <td>0.000000</td>\n      <td>0.649049</td>\n      <td>0.695271</td>\n      <td>0.000000</td>\n      <td>0.000000</td>\n      <td>0.000000</td>\n      <td>0.000000</td>\n      <td>0.000000</td>\n      <td>0.000000</td>\n    </tr>\n    <tr>\n      <th>4</th>\n      <td>0.000000</td>\n      <td>1.150429</td>\n      <td>3.093085</td>\n      <td>0.000000</td>\n      <td>0.000000</td>\n      <td>1.385180</td>\n      <td>0.000000</td>\n      <td>0.917971</td>\n      <td>0.288340</td>\n      <td>1.389271</td>\n      <td>...</td>\n      <td>0.000000</td>\n      <td>0.000000</td>\n      <td>0.000000</td>\n      <td>1.119013</td>\n      <td>2.710472</td>\n      <td>0.000000</td>\n      <td>0.000000</td>\n      <td>0.000000</td>\n      <td>0.000000</td>\n      <td>0.000000</td>\n    </tr>\n    <tr>\n      <th>5</th>\n      <td>0.000000</td>\n      <td>0.000000</td>\n      <td>0.000000</td>\n      <td>1.071377</td>\n      <td>0.627913</td>\n      <td>0.807075</td>\n      <td>0.000000</td>\n      <td>0.000000</td>\n      <td>0.000000</td>\n      <td>0.502802</td>\n      <td>...</td>\n      <td>0.000000</td>\n      <td>0.000000</td>\n      <td>2.960604</td>\n      <td>0.000000</td>\n      <td>0.000000</td>\n      <td>0.120545</td>\n      <td>3.225163</td>\n      <td>1.149298</td>\n      <td>0.686264</td>\n      <td>0.000000</td>\n    </tr>\n    <tr>\n      <th>...</th>\n      <td>...</td>\n      <td>...</td>\n      <td>...</td>\n      <td>...</td>\n      <td>...</td>\n      <td>...</td>\n      <td>...</td>\n      <td>...</td>\n      <td>...</td>\n      <td>...</td>\n      <td>...</td>\n      <td>...</td>\n      <td>...</td>\n      <td>...</td>\n      <td>...</td>\n      <td>...</td>\n      <td>...</td>\n      <td>...</td>\n      <td>...</td>\n      <td>...</td>\n      <td>...</td>\n    </tr>\n    <tr>\n      <th>64993</th>\n      <td>0.000000</td>\n      <td>0.000000</td>\n      <td>1.790812</td>\n      <td>0.410538</td>\n      <td>0.000000</td>\n      <td>1.657879</td>\n      <td>0.000000</td>\n      <td>0.967386</td>\n      <td>0.000000</td>\n      <td>0.049154</td>\n      <td>...</td>\n      <td>0.197314</td>\n      <td>0.000000</td>\n      <td>0.685837</td>\n      <td>1.282354</td>\n      <td>0.000000</td>\n      <td>1.912245</td>\n      <td>0.126529</td>\n      <td>1.069532</td>\n      <td>0.000000</td>\n      <td>0.000000</td>\n    </tr>\n    <tr>\n      <th>65006</th>\n      <td>0.000000</td>\n      <td>0.000000</td>\n      <td>0.000000</td>\n      <td>8.017126</td>\n      <td>0.000000</td>\n      <td>5.211590</td>\n      <td>11.065426</td>\n      <td>0.000000</td>\n      <td>0.000000</td>\n      <td>0.000000</td>\n      <td>...</td>\n      <td>0.000000</td>\n      <td>0.000000</td>\n      <td>3.246121</td>\n      <td>0.000000</td>\n      <td>0.000000</td>\n      <td>10.369312</td>\n      <td>6.046316</td>\n      <td>7.602953</td>\n      <td>0.000000</td>\n      <td>0.000000</td>\n    </tr>\n    <tr>\n      <th>65037</th>\n      <td>0.365008</td>\n      <td>0.000000</td>\n      <td>0.000000</td>\n      <td>0.830745</td>\n      <td>0.247003</td>\n      <td>2.953942</td>\n      <td>2.298719</td>\n      <td>0.000000</td>\n      <td>0.000000</td>\n      <td>1.865382</td>\n      <td>...</td>\n      <td>0.000000</td>\n      <td>0.897502</td>\n      <td>2.766974</td>\n      <td>0.000000</td>\n      <td>0.000000</td>\n      <td>1.003160</td>\n      <td>2.174779</td>\n      <td>2.200910</td>\n      <td>0.000000</td>\n      <td>0.000000</td>\n    </tr>\n    <tr>\n      <th>65126</th>\n      <td>4.360619</td>\n      <td>5.630291</td>\n      <td>0.000000</td>\n      <td>0.000000</td>\n      <td>0.870236</td>\n      <td>2.482337</td>\n      <td>0.000000</td>\n      <td>0.441844</td>\n      <td>4.364450</td>\n      <td>1.371433</td>\n      <td>...</td>\n      <td>0.000000</td>\n      <td>0.000000</td>\n      <td>2.244854</td>\n      <td>0.000000</td>\n      <td>0.000000</td>\n      <td>0.000000</td>\n      <td>0.000000</td>\n      <td>1.285231</td>\n      <td>1.157987</td>\n      <td>0.000000</td>\n    </tr>\n    <tr>\n      <th>65130</th>\n      <td>3.305821</td>\n      <td>1.691159</td>\n      <td>0.000000</td>\n      <td>2.721753</td>\n      <td>4.279294</td>\n      <td>0.769289</td>\n      <td>0.000000</td>\n      <td>0.000000</td>\n      <td>0.000000</td>\n      <td>1.238771</td>\n      <td>...</td>\n      <td>0.055781</td>\n      <td>0.000000</td>\n      <td>2.985070</td>\n      <td>0.000000</td>\n      <td>0.000000</td>\n      <td>1.513857</td>\n      <td>1.848415</td>\n      <td>1.557703</td>\n      <td>0.000000</td>\n      <td>1.547755</td>\n    </tr>\n  </tbody>\n</table>\n<p>7601 rows × 200 columns</p>\n</div>"
     },
     "execution_count": 132,
     "metadata": {},
     "output_type": "execute_result"
    }
   ],
   "source": [
    "p"
   ],
   "metadata": {
    "collapsed": false,
    "pycharm": {
     "name": "#%%\n"
    }
   }
  },
  {
   "cell_type": "code",
   "execution_count": 134,
   "outputs": [
    {
     "data": {
      "text/plain": "          500\n0    0.000000\n1    0.000000\n2    0.000000\n3    2.686862\n4    1.995593\n..        ...\n195  1.218837\n196  0.775563\n197  0.765634\n198  0.000000\n199  0.000000\n\n[200 rows x 1 columns]",
      "text/html": "<div>\n<style scoped>\n    .dataframe tbody tr th:only-of-type {\n        vertical-align: middle;\n    }\n\n    .dataframe tbody tr th {\n        vertical-align: top;\n    }\n\n    .dataframe thead th {\n        text-align: right;\n    }\n</style>\n<table border=\"1\" class=\"dataframe\">\n  <thead>\n    <tr style=\"text-align: right;\">\n      <th></th>\n      <th>500</th>\n    </tr>\n  </thead>\n  <tbody>\n    <tr>\n      <th>0</th>\n      <td>0.000000</td>\n    </tr>\n    <tr>\n      <th>1</th>\n      <td>0.000000</td>\n    </tr>\n    <tr>\n      <th>2</th>\n      <td>0.000000</td>\n    </tr>\n    <tr>\n      <th>3</th>\n      <td>2.686862</td>\n    </tr>\n    <tr>\n      <th>4</th>\n      <td>1.995593</td>\n    </tr>\n    <tr>\n      <th>...</th>\n      <td>...</td>\n    </tr>\n    <tr>\n      <th>195</th>\n      <td>1.218837</td>\n    </tr>\n    <tr>\n      <th>196</th>\n      <td>0.775563</td>\n    </tr>\n    <tr>\n      <th>197</th>\n      <td>0.765634</td>\n    </tr>\n    <tr>\n      <th>198</th>\n      <td>0.000000</td>\n    </tr>\n    <tr>\n      <th>199</th>\n      <td>0.000000</td>\n    </tr>\n  </tbody>\n</table>\n<p>200 rows × 1 columns</p>\n</div>"
     },
     "execution_count": 134,
     "metadata": {},
     "output_type": "execute_result"
    }
   ],
   "source": [
    "pd.DataFrame(p.loc[500], col)"
   ],
   "metadata": {
    "collapsed": false,
    "pycharm": {
     "name": "#%%\n"
    }
   }
  }
 ]
}