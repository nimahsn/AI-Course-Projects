{
 "cells": [
  {
   "cell_type": "code",
   "execution_count": 1,
   "metadata": {
    "collapsed": true,
    "pycharm": {
     "name": "#%%\n"
    }
   },
   "outputs": [],
   "source": [
    "import pandas as pd\n",
    "import numpy as np\n",
    "import gzip\n",
    "import json"
   ]
  },
  {
   "cell_type": "markdown",
   "source": [
    "## Loading the Data"
   ],
   "metadata": {
    "collapsed": false,
    "pycharm": {
     "name": "#%% md\n"
    }
   }
  },
  {
   "cell_type": "code",
   "execution_count": 2,
   "outputs": [],
   "source": [
    "def parse(path):\n",
    "  g = gzip.open(path, 'rb')\n",
    "  for l in g:\n",
    "    yield json.loads(l)\n",
    "\n",
    "def getDF(path):\n",
    "  i = 0\n",
    "  df = {}\n",
    "  for d in parse(path):\n",
    "    df[i] = d\n",
    "    i += 1\n",
    "  return pd.DataFrame.from_dict(df, orient='index')"
   ],
   "metadata": {
    "collapsed": false,
    "pycharm": {
     "name": "#%%\n"
    }
   }
  },
  {
   "cell_type": "code",
   "execution_count": 3,
   "outputs": [],
   "source": [
    "df = getDF(\"Digital_Music_5.json.gz\")"
   ],
   "metadata": {
    "collapsed": false,
    "pycharm": {
     "name": "#%%\n"
    }
   }
  },
  {
   "cell_type": "code",
   "execution_count": 4,
   "outputs": [
    {
     "data": {
      "text/plain": "   overall vote  verified   reviewTime      reviewerID        asin  \\\n0      5.0    3      True   06 3, 2013  A2TYZ821XXK2YZ  3426958910   \n1      5.0  NaN      True  10 11, 2014  A3OFSREZADFUDY  3426958910   \n2      5.0  NaN      True  02 11, 2014  A2VAMODP8M77NG  3426958910   \n3      4.0    3     False   12 7, 2013   AAKSLZ9IDTEH0  3426958910   \n4      5.0  NaN      True  06 12, 2016  A3OH43OZJLKI09  5557706259   \n\n                      style       reviewerName  \\\n0  {'Format:': ' Audio CD'}            Garrett   \n1  {'Format:': ' Audio CD'}                 Ad   \n2  {'Format:': ' Audio CD'}             JTGabq   \n3  {'Format:': ' Audio CD'}  john F&#039;n doe   \n4  {'Format:': ' Audio CD'}  melinda a goodman   \n\n                                          reviewText  \\\n0  This is awesome to listen to, A must-have for ...   \n1                                               bien   \n2  It was great to hear the old stuff again and I...   \n3  well best of's are a bit poison normally but t...   \n4  What can I say? This is Casting Crowns!!!This ...   \n\n                                             summary  unixReviewTime image  \n0                                      Slayer Rules!      1370217600   NaN  \n1                                         Five Stars      1412985600   NaN  \n2                        SLAYER!!!!!!!!!!!!!!!!!!!!!      1392076800   NaN  \n3  slayer greatest hits! you mean everything righ...      1386374400   NaN  \n4                    This is a good, blessing filled      1465689600   NaN  ",
      "text/html": "<div>\n<style scoped>\n    .dataframe tbody tr th:only-of-type {\n        vertical-align: middle;\n    }\n\n    .dataframe tbody tr th {\n        vertical-align: top;\n    }\n\n    .dataframe thead th {\n        text-align: right;\n    }\n</style>\n<table border=\"1\" class=\"dataframe\">\n  <thead>\n    <tr style=\"text-align: right;\">\n      <th></th>\n      <th>overall</th>\n      <th>vote</th>\n      <th>verified</th>\n      <th>reviewTime</th>\n      <th>reviewerID</th>\n      <th>asin</th>\n      <th>style</th>\n      <th>reviewerName</th>\n      <th>reviewText</th>\n      <th>summary</th>\n      <th>unixReviewTime</th>\n      <th>image</th>\n    </tr>\n  </thead>\n  <tbody>\n    <tr>\n      <th>0</th>\n      <td>5.0</td>\n      <td>3</td>\n      <td>True</td>\n      <td>06 3, 2013</td>\n      <td>A2TYZ821XXK2YZ</td>\n      <td>3426958910</td>\n      <td>{'Format:': ' Audio CD'}</td>\n      <td>Garrett</td>\n      <td>This is awesome to listen to, A must-have for ...</td>\n      <td>Slayer Rules!</td>\n      <td>1370217600</td>\n      <td>NaN</td>\n    </tr>\n    <tr>\n      <th>1</th>\n      <td>5.0</td>\n      <td>NaN</td>\n      <td>True</td>\n      <td>10 11, 2014</td>\n      <td>A3OFSREZADFUDY</td>\n      <td>3426958910</td>\n      <td>{'Format:': ' Audio CD'}</td>\n      <td>Ad</td>\n      <td>bien</td>\n      <td>Five Stars</td>\n      <td>1412985600</td>\n      <td>NaN</td>\n    </tr>\n    <tr>\n      <th>2</th>\n      <td>5.0</td>\n      <td>NaN</td>\n      <td>True</td>\n      <td>02 11, 2014</td>\n      <td>A2VAMODP8M77NG</td>\n      <td>3426958910</td>\n      <td>{'Format:': ' Audio CD'}</td>\n      <td>JTGabq</td>\n      <td>It was great to hear the old stuff again and I...</td>\n      <td>SLAYER!!!!!!!!!!!!!!!!!!!!!</td>\n      <td>1392076800</td>\n      <td>NaN</td>\n    </tr>\n    <tr>\n      <th>3</th>\n      <td>4.0</td>\n      <td>3</td>\n      <td>False</td>\n      <td>12 7, 2013</td>\n      <td>AAKSLZ9IDTEH0</td>\n      <td>3426958910</td>\n      <td>{'Format:': ' Audio CD'}</td>\n      <td>john F&amp;#039;n doe</td>\n      <td>well best of's are a bit poison normally but t...</td>\n      <td>slayer greatest hits! you mean everything righ...</td>\n      <td>1386374400</td>\n      <td>NaN</td>\n    </tr>\n    <tr>\n      <th>4</th>\n      <td>5.0</td>\n      <td>NaN</td>\n      <td>True</td>\n      <td>06 12, 2016</td>\n      <td>A3OH43OZJLKI09</td>\n      <td>5557706259</td>\n      <td>{'Format:': ' Audio CD'}</td>\n      <td>melinda a goodman</td>\n      <td>What can I say? This is Casting Crowns!!!This ...</td>\n      <td>This is a good, blessing filled</td>\n      <td>1465689600</td>\n      <td>NaN</td>\n    </tr>\n  </tbody>\n</table>\n</div>"
     },
     "execution_count": 4,
     "metadata": {},
     "output_type": "execute_result"
    }
   ],
   "source": [
    "df.head()"
   ],
   "metadata": {
    "collapsed": false,
    "pycharm": {
     "name": "#%%\n"
    }
   }
  },
  {
   "cell_type": "markdown",
   "source": [
    "## Cleaning the Data"
   ],
   "metadata": {
    "collapsed": false,
    "pycharm": {
     "name": "#%% md\n"
    }
   }
  },
  {
   "cell_type": "code",
   "execution_count": 5,
   "outputs": [],
   "source": [
    "df.drop([\"verified\", \"reviewTime\", \"reviewerID\", \"reviewerName\", \"unixReviewTime\", \"image\", \"style\"], axis=1, inplace=True)"
   ],
   "metadata": {
    "collapsed": false,
    "pycharm": {
     "name": "#%%\n"
    }
   }
  },
  {
   "cell_type": "code",
   "execution_count": 6,
   "outputs": [],
   "source": [
    "from sklearn.feature_extraction.text import TfidfVectorizer"
   ],
   "metadata": {
    "collapsed": false,
    "pycharm": {
     "name": "#%%\n"
    }
   }
  },
  {
   "cell_type": "code",
   "execution_count": 7,
   "outputs": [],
   "source": [
    "df[\"summary\"].fillna(\"\", inplace=True)\n",
    "df[\"reviewText\"].fillna(\"\", inplace=True)\n",
    "df[\"vote\"].fillna(0, inplace=True)\n"
   ],
   "metadata": {
    "collapsed": false,
    "pycharm": {
     "name": "#%%\n"
    }
   }
  },
  {
   "cell_type": "code",
   "execution_count": 8,
   "outputs": [],
   "source": [
    "from sklearn.model_selection import train_test_split\n",
    "train_df, test_df = train_test_split(df, test_size=0.1)"
   ],
   "metadata": {
    "collapsed": false,
    "pycharm": {
     "name": "#%%\n"
    }
   }
  },
  {
   "cell_type": "code",
   "execution_count": 9,
   "outputs": [
    {
     "data": {
      "text/plain": "(152802, 5)"
     },
     "execution_count": 9,
     "metadata": {},
     "output_type": "execute_result"
    }
   ],
   "source": [
    "train_df.shape"
   ],
   "metadata": {
    "collapsed": false,
    "pycharm": {
     "name": "#%%\n"
    }
   }
  },
  {
   "cell_type": "markdown",
   "source": [
    "## Vectorizing the Summaries"
   ],
   "metadata": {
    "collapsed": false,
    "pycharm": {
     "name": "#%% md\n"
    }
   }
  },
  {
   "cell_type": "code",
   "execution_count": 10,
   "outputs": [],
   "source": [
    "vectorizer = TfidfVectorizer(ngram_range=(1,1))\n",
    "X = vectorizer.fit_transform(train_df['summary'])"
   ],
   "metadata": {
    "collapsed": false,
    "pycharm": {
     "name": "#%%\n"
    }
   }
  },
  {
   "cell_type": "code",
   "execution_count": 11,
   "outputs": [
    {
     "data": {
      "text/plain": "(152802, 15154)"
     },
     "execution_count": 11,
     "metadata": {},
     "output_type": "execute_result"
    }
   ],
   "source": [
    "X.shape"
   ],
   "metadata": {
    "collapsed": false,
    "pycharm": {
     "name": "#%%\n"
    }
   }
  },
  {
   "cell_type": "markdown",
   "source": [],
   "metadata": {
    "collapsed": false,
    "pycharm": {
     "name": "#%% md\n"
    }
   }
  }
 ],
 "metadata": {
  "kernelspec": {
   "display_name": "Python 3",
   "language": "python",
   "name": "python3"
  },
  "language_info": {
   "codemirror_mode": {
    "name": "ipython",
    "version": 2
   },
   "file_extension": ".py",
   "mimetype": "text/x-python",
   "name": "python",
   "nbconvert_exporter": "python",
   "pygments_lexer": "ipython2",
   "version": "2.7.6"
  }
 },
 "nbformat": 4,
 "nbformat_minor": 0
}