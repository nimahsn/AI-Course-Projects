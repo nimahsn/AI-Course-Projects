{
 "metadata": {
  "language_info": {
   "codemirror_mode": {
    "name": "ipython",
    "version": 3
   },
   "file_extension": ".py",
   "mimetype": "text/x-python",
   "name": "python",
   "nbconvert_exporter": "python",
   "pygments_lexer": "ipython3",
   "version": "3.9.1"
  },
  "orig_nbformat": 2,
  "kernelspec": {
   "name": "python391jvsc74a57bd0eb95b8c83b3b280b9506158ce74ca2e6d7ce8af83c2b27ab7aef84f3ff8469dc",
   "display_name": "Python 3.9.1 64-bit ('base': conda)"
  }
 },
 "nbformat": 4,
 "nbformat_minor": 2,
 "cells": [
  {
   "cell_type": "code",
   "execution_count": 1,
   "metadata": {},
   "outputs": [],
   "source": [
    "from sudoku import Sudoku\n",
    "from csp_solver import SudokuBacktrackForwardMRV\n",
    "import time"
   ]
  },
  {
   "cell_type": "code",
   "execution_count": 2,
   "metadata": {},
   "outputs": [],
   "source": [
    "def solve(b):\n",
    "    start_time_ns = time.time_ns()\n",
    "    su = Sudoku(board)\n",
    "    bt = SudokuBacktrackForwardMRV()\n",
    "    res = bt.backtrack(su)\n",
    "    total_time = (time.time_ns() - start_time_ns) / 1e+6\n",
    "    print(res)\n",
    "    print(bt.failed_branches)\n",
    "    print(bt.forward_check_cut)\n",
    "    print(bt.forward_check_omits)\n",
    "    print(bt.discovered_nodes)\n",
    "    print(su.omits)\n",
    "    print(total_time)"
   ]
  },
  {
   "cell_type": "code",
   "execution_count": 3,
   "metadata": {},
   "outputs": [
    {
     "output_type": "stream",
     "name": "stdout",
     "text": [
      "[4, 2, 8, 6, 1, 7, 3, 5, 9]\n[9, 6, 7, 2, 5, 3, 4, 8, 1]\n[1, 3, 5, 4, 9, 8, 2, 7, 6]\n[6, 1, 2, 5, 4, 9, 8, 3, 7]\n[7, 4, 9, 3, 8, 1, 6, 2, 5]\n[5, 8, 3, 7, 2, 6, 9, 1, 4]\n[2, 9, 6, 1, 3, 5, 7, 4, 8]\n[8, 5, 4, 9, 7, 2, 1, 6, 3]\n[3, 7, 1, 8, 6, 4, 5, 9, 2]\n\n18\n1\n209\n74\n297\n5.768149\n"
     ]
    }
   ],
   "source": [
    "board = [\n",
    "    [4,2,0,0,0,0,0,0,0],\n",
    "    [0,0,7,0,5,3,0,0,1],\n",
    "    [0,3,0,0,0,8,2,0,0],\n",
    "    [6,0,2,0,0,9,0,0,7],\n",
    "    [0,0,0,0,0,0,0,0,0],\n",
    "    [5,0,0,7,0,0,9,0,4],\n",
    "    [0,0,6,1,0,0,0,4,0],\n",
    "    [8,0,0,9,7,0,1,0,0],\n",
    "    [0,0,0,0,0,0,0,9,2]]\n",
    "\n",
    "solve(board)"
   ]
  },
  {
   "cell_type": "code",
   "execution_count": 4,
   "metadata": {},
   "outputs": [
    {
     "output_type": "stream",
     "name": "stdout",
     "text": [
      "[1, 8, 9, 7, 2, 5, 4, 6, 3]\n[3, 4, 7, 6, 9, 8, 1, 2, 5]\n[6, 2, 5, 4, 1, 3, 7, 8, 9]\n[5, 7, 3, 8, 6, 4, 2, 9, 1]\n[4, 1, 8, 2, 3, 9, 5, 7, 6]\n[2, 9, 6, 5, 7, 1, 8, 3, 4]\n[7, 3, 2, 1, 5, 6, 9, 4, 8]\n[8, 6, 1, 9, 4, 2, 3, 5, 7]\n[9, 5, 4, 3, 8, 7, 6, 1, 2]\n\n13\n2\n187\n68\n298\n1.488892\n"
     ]
    }
   ],
   "source": [
    "board = [\n",
    "    [0,0,0,0,0,5,0,6,0],\n",
    "    [3,0,7,0,0,8,1,0,0],\n",
    "    [6,2,5,0,0,0,7,0,0],\n",
    "    [0,0,0,0,0,0,0,9,1],\n",
    "    [0,0,8,0,3,0,5,0,0],\n",
    "    [2,9,0,0,0,0,0,0,0],\n",
    "    [0,0,2,0,0,0,9,4,8],\n",
    "    [0,0,1,9,0,0,3,0,7],\n",
    "    [0,5,0,3,0,0,0,0,0]]\n",
    "solve(board)"
   ]
  },
  {
   "cell_type": "code",
   "execution_count": 5,
   "metadata": {},
   "outputs": [
    {
     "output_type": "stream",
     "name": "stdout",
     "text": [
      "[7, 1, 6, 9, 4, 5, 2, 8, 3]\n[4, 3, 9, 7, 8, 2, 1, 6, 5]\n[2, 8, 5, 3, 1, 6, 7, 4, 9]\n[5, 7, 3, 6, 9, 1, 8, 2, 4]\n[8, 9, 1, 2, 7, 4, 3, 5, 6]\n[6, 2, 4, 8, 5, 3, 9, 1, 7]\n[9, 6, 2, 4, 3, 8, 5, 7, 1]\n[3, 5, 8, 1, 6, 7, 4, 9, 2]\n[1, 4, 7, 5, 2, 9, 6, 3, 8]\n\n1688\n229\n7123\n1746\n286\n37.382232\n"
     ]
    }
   ],
   "source": [
    "board = [\n",
    "    [0,0,0,0,0,5,0,8,3],\n",
    "    [0,0,0,7,8,0,0,0,0],\n",
    "    [2,8,0,0,1,0,0,0,9],\n",
    "    [0,7,3,0,0,0,0,0,0],\n",
    "    [8,0,0,0,0,0,0,0,6],\n",
    "    [0,0,0,0,0,0,9,1,0],\n",
    "    [9,0,0,0,3,0,0,7,1],\n",
    "    [0,0,0,0,6,7,0,0,0],\n",
    "    [1,4,0,5,0,0,0,0,0]]\n",
    "solve(board)"
   ]
  },
  {
   "cell_type": "code",
   "execution_count": 6,
   "metadata": {},
   "outputs": [
    {
     "output_type": "stream",
     "name": "stdout",
     "text": [
      "[3, 2, 4, 7, 8, 5, 1, 6, 9]\n[5, 9, 6, 4, 3, 1, 7, 8, 2]\n[7, 8, 1, 9, 2, 6, 4, 3, 5]\n[4, 6, 8, 1, 9, 3, 5, 2, 7]\n[9, 1, 3, 2, 5, 7, 8, 4, 6]\n[2, 7, 5, 8, 6, 4, 9, 1, 3]\n[6, 5, 7, 3, 1, 8, 2, 9, 4]\n[8, 4, 2, 6, 7, 9, 3, 5, 1]\n[1, 3, 9, 5, 4, 2, 6, 7, 8]\n\n252\n27\n1062\n308\n295\n6.168688\n"
     ]
    }
   ],
   "source": [
    "board = [\n",
    "    [3,0,0,7,0,0,0,0,9],\n",
    "    [0,9,0,0,0,0,7,0,0],\n",
    "    [0,8,0,0,0,6,4,0,0],\n",
    "    [0,6,0,0,0,3,0,0,7],\n",
    "    [9,0,0,2,0,7,0,0,6],\n",
    "    [2,0,0,8,0,0,0,1,0],\n",
    "    [0,0,7,3,0,0,0,9,0],\n",
    "    [0,0,2,0,0,0,0,5,0],\n",
    "    [1,0,0,0,0,2,0,0,8]]\n",
    "solve(board)"
   ]
  },
  {
   "cell_type": "code",
   "execution_count": null,
   "metadata": {},
   "outputs": [],
   "source": []
  }
 ]
}