{
 "cells": [
  {
   "cell_type": "code",
   "execution_count": 1,
   "metadata": {
    "pycharm": {
     "name": "#%%\n"
    }
   },
   "outputs": [],
   "source": [
    "import numpy as np\n",
    "import pandas as pd\n",
    "import matplotlib.pyplot as plt\n",
    "import seaborn as sns\n",
    "from sklearn.metrics import confusion_matrix, classification_report"
   ]
  },
  {
   "cell_type": "code",
   "execution_count": 2,
   "metadata": {
    "pycharm": {
     "name": "#%%\n"
    }
   },
   "outputs": [],
   "source": [
    "df = pd.read_csv(\"sonar.all-data\", names=list(range(1,61)) + [\"target\"], index_col=False)"
   ]
  },
  {
   "cell_type": "code",
   "execution_count": 3,
   "metadata": {
    "pycharm": {
     "name": "#%%\n"
    }
   },
   "outputs": [],
   "source": [
    "df[\"target\"] = df[\"target\"].map({\"R\":0, \"M\":1})"
   ]
  },
  {
   "cell_type": "code",
   "execution_count": 4,
   "metadata": {
    "pycharm": {
     "name": "#%%\n"
    }
   },
   "outputs": [],
   "source": [
    "from sklearn.model_selection import StratifiedShuffleSplit"
   ]
  },
  {
   "cell_type": "code",
   "execution_count": 5,
   "metadata": {
    "pycharm": {
     "name": "#%%\n"
    }
   },
   "outputs": [],
   "source": [
    "strat_split = StratifiedShuffleSplit(n_splits=1, test_size=40, random_state=10)\n",
    "train_ind, test_ind = next(strat_split.split(df.drop(labels=[\"target\"], axis=1), df[\"target\"]))\n",
    "X_train = df.iloc[train_ind].drop(labels=['target'], axis=1)\n",
    "y_train = df.iloc[train_ind][\"target\"]\n",
    "X_test = df.iloc[test_ind].drop(labels=['target'], axis=1)\n",
    "y_test = df.iloc[test_ind][\"target\"]"
   ]
  },
  {
   "cell_type": "code",
   "execution_count": 6,
   "metadata": {
    "pycharm": {
     "name": "#%%\n"
    }
   },
   "outputs": [],
   "source": [
    "from sklearn.preprocessing import StandardScaler"
   ]
  },
  {
   "cell_type": "code",
   "execution_count": 7,
   "metadata": {
    "pycharm": {
     "name": "#%%\n"
    }
   },
   "outputs": [],
   "source": [
    "scaler = StandardScaler()\n",
    "X_train_std = scaler.fit_transform(X_train)\n",
    "X_test_std = scaler.transform(X_test)"
   ]
  },
  {
   "cell_type": "code",
   "execution_count": 8,
   "metadata": {},
   "outputs": [],
   "source": [
    "def print_confusion(y_true, y_pred):\n",
    "    tn, fp, fn, tp = confusion_matrix(y_true, y_pred).ravel()\n",
    "    print(tn, fn)\n",
    "    print(fp, tp)"
   ]
  },
  {
   "cell_type": "markdown",
   "metadata": {
    "pycharm": {
     "name": "#%% md\n"
    }
   },
   "source": [
    "## Logistic  Regression\n"
   ]
  },
  {
   "cell_type": "code",
   "execution_count": 9,
   "metadata": {
    "pycharm": {
     "name": "#%%\n"
    }
   },
   "outputs": [],
   "source": [
    "from sklearn.linear_model import LogisticRegression"
   ]
  },
  {
   "cell_type": "code",
   "execution_count": 10,
   "metadata": {
    "pycharm": {
     "name": "#%%\n"
    }
   },
   "outputs": [],
   "source": [
    "log_reg = LogisticRegression(penalty='l2')\n",
    "log_reg = log_reg.fit(X_train_std, y_train)"
   ]
  },
  {
   "cell_type": "code",
   "execution_count": 11,
   "metadata": {
    "pycharm": {
     "name": "#%%\n"
    }
   },
   "outputs": [],
   "source": [
    "y_preds_reg = log_reg.predict(X_test_std)"
   ]
  },
  {
   "cell_type": "code",
   "execution_count": 12,
   "metadata": {
    "pycharm": {
     "name": "#%%\n"
    }
   },
   "outputs": [
    {
     "name": "stdout",
     "output_type": "stream",
     "text": [
      "11 6\n",
      "8 15\n"
     ]
    }
   ],
   "source": [
    "print_confusion(y_test, y_preds_reg)"
   ]
  },
  {
   "cell_type": "code",
   "execution_count": 13,
   "metadata": {
    "pycharm": {
     "name": "#%%\n"
    }
   },
   "outputs": [
    {
     "name": "stdout",
     "output_type": "stream",
     "text": [
      "              precision    recall  f1-score   support\n",
      "\n",
      "           0       0.65      0.58      0.61        19\n",
      "           1       0.65      0.71      0.68        21\n",
      "\n",
      "    accuracy                           0.65        40\n",
      "   macro avg       0.65      0.65      0.65        40\n",
      "weighted avg       0.65      0.65      0.65        40\n",
      "\n"
     ]
    }
   ],
   "source": [
    "print(classification_report(y_test, y_preds_reg))"
   ]
  },
  {
   "cell_type": "markdown",
   "metadata": {
    "pycharm": {
     "name": "#%% md\n"
    }
   },
   "source": [
    "## Logistic Regression with Polynomial Features"
   ]
  },
  {
   "cell_type": "code",
   "execution_count": 14,
   "metadata": {
    "pycharm": {
     "name": "#%%\n"
    }
   },
   "outputs": [],
   "source": [
    "from sklearn.preprocessing import PolynomialFeatures"
   ]
  },
  {
   "cell_type": "code",
   "execution_count": 15,
   "metadata": {
    "pycharm": {
     "name": "#%%\n"
    }
   },
   "outputs": [],
   "source": [
    "poly = PolynomialFeatures(degree=2)\n",
    "X_train_poly = poly.fit_transform(X_train)\n",
    "X_test_poly = poly.transform(X_test)\n",
    "poly_scaler = StandardScaler()\n",
    "X_train_poly_std = poly_scaler.fit_transform(X_train_poly)\n",
    "X_test_poly_std = poly_scaler.transform(X_test_poly)"
   ]
  },
  {
   "cell_type": "code",
   "execution_count": 16,
   "metadata": {
    "pycharm": {
     "name": "#%%\n"
    }
   },
   "outputs": [],
   "source": [
    "poly_log_reg = LogisticRegression(penalty='l2')\n",
    "poly_log_reg = poly_log_reg.fit(X_train_poly, y_train)"
   ]
  },
  {
   "cell_type": "code",
   "execution_count": 17,
   "metadata": {
    "pycharm": {
     "name": "#%%\n"
    }
   },
   "outputs": [],
   "source": [
    "y_preds_poly_reg = poly_log_reg.predict(X_test_poly_std)"
   ]
  },
  {
   "cell_type": "code",
   "execution_count": 20,
   "metadata": {
    "pycharm": {
     "name": "#%%\n"
    }
   },
   "outputs": [
    {
     "name": "stdout",
     "output_type": "stream",
     "text": [
      "18 11\n",
      "1 10\n"
     ]
    }
   ],
   "source": [
    "print_confusion(y_test, y_preds_poly_reg)"
   ]
  },
  {
   "cell_type": "code",
   "execution_count": 21,
   "metadata": {
    "pycharm": {
     "name": "#%%\n"
    }
   },
   "outputs": [
    {
     "name": "stdout",
     "output_type": "stream",
     "text": [
      "              precision    recall  f1-score   support\n",
      "\n",
      "           0       0.62      0.95      0.75        19\n",
      "           1       0.91      0.48      0.62        21\n",
      "\n",
      "    accuracy                           0.70        40\n",
      "   macro avg       0.76      0.71      0.69        40\n",
      "weighted avg       0.77      0.70      0.68        40\n",
      "\n"
     ]
    }
   ],
   "source": [
    "print(classification_report(y_test, y_preds_poly_reg))"
   ]
  },
  {
   "cell_type": "markdown",
   "metadata": {
    "pycharm": {
     "name": "#%% md\n"
    }
   },
   "source": [
    "## Decision Tree"
   ]
  },
  {
   "cell_type": "code",
   "execution_count": 22,
   "metadata": {
    "pycharm": {
     "name": "#%%\n"
    }
   },
   "outputs": [],
   "source": [
    "from sklearn.tree import DecisionTreeClassifier"
   ]
  },
  {
   "cell_type": "code",
   "execution_count": 23,
   "metadata": {
    "pycharm": {
     "name": "#%%\n"
    }
   },
   "outputs": [],
   "source": [
    "dec_tree = DecisionTreeClassifier()\n",
    "dec_tree = dec_tree.fit(X_train, y_train)"
   ]
  },
  {
   "cell_type": "code",
   "execution_count": 24,
   "metadata": {
    "pycharm": {
     "name": "#%%\n"
    }
   },
   "outputs": [],
   "source": [
    "y_preds_tree = dec_tree.predict(X_test)"
   ]
  },
  {
   "cell_type": "code",
   "execution_count": 26,
   "metadata": {
    "pycharm": {
     "name": "#%%\n"
    }
   },
   "outputs": [
    {
     "name": "stdout",
     "output_type": "stream",
     "text": [
      "13 7\n",
      "6 14\n"
     ]
    }
   ],
   "source": [
    "print_confusion(y_test, y_preds_tree)"
   ]
  },
  {
   "cell_type": "code",
   "execution_count": 27,
   "metadata": {
    "pycharm": {
     "name": "#%%\n"
    }
   },
   "outputs": [
    {
     "name": "stdout",
     "output_type": "stream",
     "text": [
      "              precision    recall  f1-score   support\n",
      "\n",
      "           0       0.65      0.68      0.67        19\n",
      "           1       0.70      0.67      0.68        21\n",
      "\n",
      "    accuracy                           0.68        40\n",
      "   macro avg       0.68      0.68      0.67        40\n",
      "weighted avg       0.68      0.68      0.68        40\n",
      "\n"
     ]
    }
   ],
   "source": [
    "print(classification_report(y_test, y_preds_tree))"
   ]
  },
  {
   "cell_type": "markdown",
   "metadata": {
    "pycharm": {
     "name": "#%% md\n"
    }
   },
   "source": [
    "## Decision Forest\n"
   ]
  },
  {
   "cell_type": "code",
   "execution_count": 28,
   "metadata": {
    "pycharm": {
     "name": "#%%\n"
    }
   },
   "outputs": [],
   "source": [
    "from sklearn.ensemble import RandomForestClassifier"
   ]
  },
  {
   "cell_type": "code",
   "execution_count": 29,
   "metadata": {
    "pycharm": {
     "name": "#%%\n"
    }
   },
   "outputs": [],
   "source": [
    "forest = RandomForestClassifier(n_estimators=1000, min_samples_split=5)"
   ]
  },
  {
   "cell_type": "code",
   "execution_count": 30,
   "metadata": {
    "pycharm": {
     "name": "#%%\n"
    }
   },
   "outputs": [],
   "source": [
    "forest = forest.fit(X_train, y_train)"
   ]
  },
  {
   "cell_type": "code",
   "execution_count": 31,
   "metadata": {
    "pycharm": {
     "name": "#%%\n"
    }
   },
   "outputs": [],
   "source": [
    "y_preds_forest = forest.predict(X_test)"
   ]
  },
  {
   "cell_type": "code",
   "execution_count": 32,
   "metadata": {
    "pycharm": {
     "name": "#%%\n"
    }
   },
   "outputs": [
    {
     "name": "stdout",
     "output_type": "stream",
     "text": [
      "14 3\n",
      "5 18\n"
     ]
    }
   ],
   "source": [
    "print_confusion(y_test, y_preds_forest)"
   ]
  },
  {
   "cell_type": "code",
   "execution_count": 33,
   "metadata": {
    "pycharm": {
     "name": "#%%\n"
    }
   },
   "outputs": [
    {
     "name": "stdout",
     "output_type": "stream",
     "text": [
      "              precision    recall  f1-score   support\n",
      "\n",
      "           0       0.82      0.74      0.78        19\n",
      "           1       0.78      0.86      0.82        21\n",
      "\n",
      "    accuracy                           0.80        40\n",
      "   macro avg       0.80      0.80      0.80        40\n",
      "weighted avg       0.80      0.80      0.80        40\n",
      "\n"
     ]
    }
   ],
   "source": [
    "print(classification_report(y_test, y_preds_forest))"
   ]
  },
  {
   "cell_type": "markdown",
   "metadata": {
    "pycharm": {
     "name": "#%% md\n"
    }
   },
   "source": [
    "## Neural Network"
   ]
  },
  {
   "cell_type": "code",
   "execution_count": 34,
   "metadata": {
    "pycharm": {
     "name": "#%%\n"
    }
   },
   "outputs": [],
   "source": [
    "import tensorflow as tf\n",
    "from tensorflow import keras\n",
    "import tensorboard"
   ]
  },
  {
   "cell_type": "code",
   "execution_count": 40,
   "metadata": {
    "pycharm": {
     "name": "#%%\n"
    }
   },
   "outputs": [],
   "source": [
    "deep_model = keras.models.Sequential([\n",
    "    keras.layers.InputLayer(input_shape=X_train_std.shape[1]),\n",
    "    keras.layers.Dense(100, activation=\"relu\",  kernel_regularizer='l2'),\n",
    "    keras.layers.Dense(100, activation=\"relu\",  kernel_regularizer='l2'),\n",
    "    keras.layers.Dense(100, activation=\"relu\", kernel_regularizer='l2'),\n",
    "    keras.layers.Dense(1, activation=\"sigmoid\")\n",
    "])"
   ]
  },
  {
   "cell_type": "code",
   "execution_count": 41,
   "metadata": {
    "pycharm": {
     "name": "#%%\n"
    }
   },
   "outputs": [],
   "source": [
    "deep_model.compile(\"nadam\", loss = keras.losses.binary_crossentropy, metrics=[\"accuracy\"])"
   ]
  },
  {
   "cell_type": "code",
   "execution_count": 42,
   "metadata": {
    "pycharm": {
     "name": "#%%\n"
    }
   },
   "outputs": [],
   "source": [
    "early_stop_cb = keras.callbacks.EarlyStopping(restore_best_weights=True, patience=10, verbose=2)\n",
    "plateau_cb = keras.callbacks.ReduceLROnPlateau(factor=0.1, patience=5)"
   ]
  },
  {
   "cell_type": "code",
   "execution_count": 43,
   "metadata": {
    "pycharm": {
     "name": "#%%\n"
    }
   },
   "outputs": [
    {
     "name": "stdout",
     "output_type": "stream",
     "text": [
      "Epoch 1/300\n",
      "5/5 [==============================] - 1s 58ms/step - loss: 3.4257 - accuracy: 0.5775 - val_loss: 3.3439 - val_accuracy: 0.5385\n",
      "Epoch 2/300\n",
      "5/5 [==============================] - 0s 13ms/step - loss: 3.2272 - accuracy: 0.7665 - val_loss: 3.2080 - val_accuracy: 0.5385\n",
      "Epoch 3/300\n",
      "5/5 [==============================] - 0s 13ms/step - loss: 3.0670 - accuracy: 0.8219 - val_loss: 3.0818 - val_accuracy: 0.6923\n",
      "Epoch 4/300\n",
      "5/5 [==============================] - 0s 15ms/step - loss: 2.9135 - accuracy: 0.8504 - val_loss: 2.9351 - val_accuracy: 0.7692\n",
      "Epoch 5/300\n",
      "5/5 [==============================] - 0s 15ms/step - loss: 2.7224 - accuracy: 0.9012 - val_loss: 2.7700 - val_accuracy: 0.8077\n",
      "Epoch 6/300\n",
      "5/5 [==============================] - 0s 15ms/step - loss: 2.5725 - accuracy: 0.9327 - val_loss: 2.6359 - val_accuracy: 0.8077\n",
      "Epoch 7/300\n",
      "5/5 [==============================] - 0s 15ms/step - loss: 2.4198 - accuracy: 0.9552 - val_loss: 2.5163 - val_accuracy: 0.8077\n",
      "Epoch 8/300\n",
      "5/5 [==============================] - 0s 15ms/step - loss: 2.2637 - accuracy: 0.9491 - val_loss: 2.3986 - val_accuracy: 0.8077\n",
      "Epoch 9/300\n",
      "5/5 [==============================] - 0s 14ms/step - loss: 2.1402 - accuracy: 0.9722 - val_loss: 2.2544 - val_accuracy: 0.7692\n",
      "Epoch 10/300\n",
      "5/5 [==============================] - 0s 16ms/step - loss: 2.0306 - accuracy: 0.9788 - val_loss: 2.1675 - val_accuracy: 0.8077\n",
      "Epoch 11/300\n",
      "5/5 [==============================] - 0s 25ms/step - loss: 1.9185 - accuracy: 0.9786 - val_loss: 2.0662 - val_accuracy: 0.7692\n",
      "Epoch 12/300\n",
      "5/5 [==============================] - 0s 19ms/step - loss: 1.8201 - accuracy: 0.9868 - val_loss: 2.0047 - val_accuracy: 0.8077\n",
      "Epoch 13/300\n",
      "5/5 [==============================] - 0s 16ms/step - loss: 1.7161 - accuracy: 0.9920 - val_loss: 1.8986 - val_accuracy: 0.8077\n",
      "Epoch 14/300\n",
      "5/5 [==============================] - 0s 16ms/step - loss: 1.6093 - accuracy: 1.0000 - val_loss: 1.8056 - val_accuracy: 0.8077\n",
      "Epoch 15/300\n",
      "5/5 [==============================] - 0s 17ms/step - loss: 1.5248 - accuracy: 1.0000 - val_loss: 1.7211 - val_accuracy: 0.8462\n",
      "Epoch 16/300\n",
      "5/5 [==============================] - 0s 16ms/step - loss: 1.4378 - accuracy: 1.0000 - val_loss: 1.6361 - val_accuracy: 0.8846\n",
      "Epoch 17/300\n",
      "5/5 [==============================] - 0s 18ms/step - loss: 1.3582 - accuracy: 1.0000 - val_loss: 1.5677 - val_accuracy: 0.9231\n",
      "Epoch 18/300\n",
      "5/5 [==============================] - 0s 17ms/step - loss: 1.2854 - accuracy: 1.0000 - val_loss: 1.5061 - val_accuracy: 0.8846\n",
      "Epoch 19/300\n",
      "5/5 [==============================] - 0s 16ms/step - loss: 1.2254 - accuracy: 1.0000 - val_loss: 1.4544 - val_accuracy: 0.8846\n",
      "Epoch 20/300\n",
      "5/5 [==============================] - 0s 17ms/step - loss: 1.1578 - accuracy: 1.0000 - val_loss: 1.3815 - val_accuracy: 0.9231\n",
      "Epoch 21/300\n",
      "5/5 [==============================] - 0s 20ms/step - loss: 1.1007 - accuracy: 1.0000 - val_loss: 1.3493 - val_accuracy: 0.8846\n",
      "Epoch 22/300\n",
      "5/5 [==============================] - 0s 18ms/step - loss: 1.0455 - accuracy: 1.0000 - val_loss: 1.2526 - val_accuracy: 0.9231\n",
      "Epoch 23/300\n",
      "5/5 [==============================] - 0s 16ms/step - loss: 0.9882 - accuracy: 1.0000 - val_loss: 1.1880 - val_accuracy: 0.9231\n",
      "Epoch 24/300\n",
      "5/5 [==============================] - 0s 15ms/step - loss: 0.9411 - accuracy: 1.0000 - val_loss: 1.1421 - val_accuracy: 0.9231\n",
      "Epoch 25/300\n",
      "5/5 [==============================] - 0s 37ms/step - loss: 0.8916 - accuracy: 1.0000 - val_loss: 1.1149 - val_accuracy: 0.9231\n",
      "Epoch 26/300\n",
      "5/5 [==============================] - 0s 23ms/step - loss: 0.8466 - accuracy: 1.0000 - val_loss: 1.0695 - val_accuracy: 0.9231\n",
      "Epoch 27/300\n",
      "5/5 [==============================] - 0s 21ms/step - loss: 0.8045 - accuracy: 1.0000 - val_loss: 1.0164 - val_accuracy: 0.9231\n",
      "Epoch 28/300\n",
      "5/5 [==============================] - 0s 29ms/step - loss: 0.7652 - accuracy: 1.0000 - val_loss: 0.9653 - val_accuracy: 0.9231\n",
      "Epoch 29/300\n",
      "5/5 [==============================] - 0s 21ms/step - loss: 0.7287 - accuracy: 1.0000 - val_loss: 0.9433 - val_accuracy: 0.9231\n",
      "Epoch 30/300\n",
      "5/5 [==============================] - 0s 29ms/step - loss: 0.6925 - accuracy: 1.0000 - val_loss: 0.9186 - val_accuracy: 0.9231\n",
      "Epoch 31/300\n",
      "5/5 [==============================] - 0s 20ms/step - loss: 0.6583 - accuracy: 1.0000 - val_loss: 0.8667 - val_accuracy: 0.9231\n",
      "Epoch 32/300\n",
      "5/5 [==============================] - 0s 28ms/step - loss: 0.6263 - accuracy: 1.0000 - val_loss: 0.8158 - val_accuracy: 0.9231\n",
      "Epoch 33/300\n",
      "5/5 [==============================] - 0s 33ms/step - loss: 0.5950 - accuracy: 1.0000 - val_loss: 0.8012 - val_accuracy: 0.9231\n",
      "Epoch 34/300\n",
      "5/5 [==============================] - 0s 24ms/step - loss: 0.5692 - accuracy: 1.0000 - val_loss: 0.7771 - val_accuracy: 0.9231\n",
      "Epoch 35/300\n",
      "5/5 [==============================] - 0s 18ms/step - loss: 0.5404 - accuracy: 1.0000 - val_loss: 0.7496 - val_accuracy: 0.9231\n",
      "Epoch 36/300\n",
      "5/5 [==============================] - 0s 30ms/step - loss: 0.5149 - accuracy: 1.0000 - val_loss: 0.7392 - val_accuracy: 0.9231\n",
      "Epoch 37/300\n",
      "5/5 [==============================] - 0s 17ms/step - loss: 0.4917 - accuracy: 1.0000 - val_loss: 0.7105 - val_accuracy: 0.9231\n",
      "Epoch 38/300\n",
      "5/5 [==============================] - 0s 18ms/step - loss: 0.4686 - accuracy: 1.0000 - val_loss: 0.6687 - val_accuracy: 0.9231\n",
      "Epoch 39/300\n",
      "5/5 [==============================] - 0s 17ms/step - loss: 0.4468 - accuracy: 1.0000 - val_loss: 0.6698 - val_accuracy: 0.9231\n",
      "Epoch 40/300\n",
      "5/5 [==============================] - 0s 18ms/step - loss: 0.4271 - accuracy: 1.0000 - val_loss: 0.6437 - val_accuracy: 0.9231\n",
      "Epoch 41/300\n",
      "5/5 [==============================] - 0s 25ms/step - loss: 0.4081 - accuracy: 1.0000 - val_loss: 0.6198 - val_accuracy: 0.9231\n",
      "Epoch 42/300\n",
      "5/5 [==============================] - 0s 19ms/step - loss: 0.3902 - accuracy: 1.0000 - val_loss: 0.6188 - val_accuracy: 0.9231\n",
      "Epoch 43/300\n",
      "5/5 [==============================] - 0s 17ms/step - loss: 0.3730 - accuracy: 1.0000 - val_loss: 0.6029 - val_accuracy: 0.9231\n",
      "Epoch 44/300\n",
      "5/5 [==============================] - 0s 19ms/step - loss: 0.3597 - accuracy: 1.0000 - val_loss: 0.5763 - val_accuracy: 0.9231\n",
      "Epoch 45/300\n",
      "5/5 [==============================] - 0s 17ms/step - loss: 0.3433 - accuracy: 1.0000 - val_loss: 0.5338 - val_accuracy: 0.9231\n",
      "Epoch 46/300\n",
      "5/5 [==============================] - 0s 22ms/step - loss: 0.3304 - accuracy: 1.0000 - val_loss: 0.5471 - val_accuracy: 0.9231\n",
      "Epoch 47/300\n",
      "5/5 [==============================] - 0s 25ms/step - loss: 0.3157 - accuracy: 1.0000 - val_loss: 0.5639 - val_accuracy: 0.9231\n",
      "Epoch 48/300\n",
      "5/5 [==============================] - 0s 19ms/step - loss: 0.3044 - accuracy: 1.0000 - val_loss: 0.5165 - val_accuracy: 0.9231\n",
      "Epoch 49/300\n",
      "5/5 [==============================] - 0s 30ms/step - loss: 0.2918 - accuracy: 1.0000 - val_loss: 0.5051 - val_accuracy: 0.9231\n",
      "Epoch 50/300\n",
      "5/5 [==============================] - 0s 31ms/step - loss: 0.2810 - accuracy: 1.0000 - val_loss: 0.5143 - val_accuracy: 0.9231\n",
      "Epoch 51/300\n",
      "5/5 [==============================] - 0s 21ms/step - loss: 0.2695 - accuracy: 1.0000 - val_loss: 0.5092 - val_accuracy: 0.9231\n",
      "Epoch 52/300\n",
      "5/5 [==============================] - 0s 17ms/step - loss: 0.2612 - accuracy: 1.0000 - val_loss: 0.4948 - val_accuracy: 0.9231\n",
      "Epoch 53/300\n",
      "5/5 [==============================] - 0s 18ms/step - loss: 0.2506 - accuracy: 1.0000 - val_loss: 0.4963 - val_accuracy: 0.9231\n",
      "Epoch 54/300\n",
      "5/5 [==============================] - 0s 21ms/step - loss: 0.2430 - accuracy: 1.0000 - val_loss: 0.4807 - val_accuracy: 0.9231\n",
      "Epoch 55/300\n",
      "5/5 [==============================] - 0s 19ms/step - loss: 0.2329 - accuracy: 1.0000 - val_loss: 0.4674 - val_accuracy: 0.9231\n",
      "Epoch 56/300\n",
      "5/5 [==============================] - 0s 36ms/step - loss: 0.2269 - accuracy: 1.0000 - val_loss: 0.4716 - val_accuracy: 0.9231\n",
      "Epoch 57/300\n",
      "5/5 [==============================] - 0s 33ms/step - loss: 0.2197 - accuracy: 1.0000 - val_loss: 0.4666 - val_accuracy: 0.9231\n",
      "Epoch 58/300\n",
      "5/5 [==============================] - 0s 29ms/step - loss: 0.2107 - accuracy: 1.0000 - val_loss: 0.4697 - val_accuracy: 0.9231\n",
      "Epoch 59/300\n",
      "5/5 [==============================] - 0s 29ms/step - loss: 0.2045 - accuracy: 1.0000 - val_loss: 0.4636 - val_accuracy: 0.9231\n",
      "Epoch 60/300\n",
      "5/5 [==============================] - 0s 29ms/step - loss: 0.1990 - accuracy: 1.0000 - val_loss: 0.4484 - val_accuracy: 0.9231\n",
      "Epoch 61/300\n",
      "5/5 [==============================] - 0s 26ms/step - loss: 0.1931 - accuracy: 1.0000 - val_loss: 0.4309 - val_accuracy: 0.9231\n",
      "Epoch 62/300\n",
      "5/5 [==============================] - 0s 31ms/step - loss: 0.1868 - accuracy: 1.0000 - val_loss: 0.4589 - val_accuracy: 0.9231\n",
      "Epoch 63/300\n",
      "5/5 [==============================] - 0s 27ms/step - loss: 0.1836 - accuracy: 1.0000 - val_loss: 0.4215 - val_accuracy: 0.9231\n",
      "Epoch 64/300\n",
      "5/5 [==============================] - 0s 28ms/step - loss: 0.1786 - accuracy: 1.0000 - val_loss: 0.4314 - val_accuracy: 0.9231\n",
      "Epoch 65/300\n",
      "5/5 [==============================] - 0s 20ms/step - loss: 0.1725 - accuracy: 1.0000 - val_loss: 0.4210 - val_accuracy: 0.9231\n",
      "Epoch 66/300\n",
      "5/5 [==============================] - 0s 27ms/step - loss: 0.1684 - accuracy: 1.0000 - val_loss: 0.4125 - val_accuracy: 0.9231\n",
      "Epoch 67/300\n",
      "5/5 [==============================] - 0s 17ms/step - loss: 0.1651 - accuracy: 1.0000 - val_loss: 0.4076 - val_accuracy: 0.9231\n",
      "Epoch 68/300\n",
      "5/5 [==============================] - 0s 22ms/step - loss: 0.1592 - accuracy: 1.0000 - val_loss: 0.4140 - val_accuracy: 0.9231\n",
      "Epoch 69/300\n",
      "5/5 [==============================] - 0s 18ms/step - loss: 0.1562 - accuracy: 1.0000 - val_loss: 0.4096 - val_accuracy: 0.9231\n",
      "Epoch 70/300\n",
      "5/5 [==============================] - 0s 25ms/step - loss: 0.1530 - accuracy: 1.0000 - val_loss: 0.4201 - val_accuracy: 0.9231\n",
      "Epoch 71/300\n",
      "5/5 [==============================] - 0s 19ms/step - loss: 0.1485 - accuracy: 1.0000 - val_loss: 0.4081 - val_accuracy: 0.9231\n",
      "Epoch 72/300\n",
      "5/5 [==============================] - 0s 17ms/step - loss: 0.1465 - accuracy: 1.0000 - val_loss: 0.3849 - val_accuracy: 0.9231\n",
      "Epoch 73/300\n",
      "5/5 [==============================] - 0s 16ms/step - loss: 0.1424 - accuracy: 1.0000 - val_loss: 0.4259 - val_accuracy: 0.9231\n",
      "Epoch 74/300\n",
      "5/5 [==============================] - 0s 16ms/step - loss: 0.1378 - accuracy: 1.0000 - val_loss: 0.3935 - val_accuracy: 0.9231\n",
      "Epoch 75/300\n",
      "5/5 [==============================] - 0s 19ms/step - loss: 0.1373 - accuracy: 1.0000 - val_loss: 0.3966 - val_accuracy: 0.9231\n",
      "Epoch 76/300\n",
      "5/5 [==============================] - 0s 19ms/step - loss: 0.1337 - accuracy: 1.0000 - val_loss: 0.4140 - val_accuracy: 0.9231\n",
      "Epoch 77/300\n",
      "5/5 [==============================] - 0s 19ms/step - loss: 0.1320 - accuracy: 1.0000 - val_loss: 0.4245 - val_accuracy: 0.8846\n",
      "Epoch 78/300\n",
      "5/5 [==============================] - 0s 17ms/step - loss: 0.1296 - accuracy: 1.0000 - val_loss: 0.4215 - val_accuracy: 0.9231\n",
      "Epoch 79/300\n",
      "5/5 [==============================] - 0s 17ms/step - loss: 0.1287 - accuracy: 1.0000 - val_loss: 0.4184 - val_accuracy: 0.9231\n",
      "Epoch 80/300\n",
      "5/5 [==============================] - 0s 19ms/step - loss: 0.1287 - accuracy: 1.0000 - val_loss: 0.4162 - val_accuracy: 0.9231\n",
      "Epoch 81/300\n",
      "5/5 [==============================] - 0s 20ms/step - loss: 0.1274 - accuracy: 1.0000 - val_loss: 0.4143 - val_accuracy: 0.9231\n",
      "Epoch 82/300\n",
      "5/5 [==============================] - 0s 36ms/step - loss: 0.1286 - accuracy: 1.0000 - val_loss: 0.4109 - val_accuracy: 0.9231\n",
      "Restoring model weights from the end of the best epoch.\n",
      "Epoch 00082: early stopping\n"
     ]
    }
   ],
   "source": [
    "deep_history = deep_model.fit(X_train_std, y_train, epochs=300, callbacks=[early_stop_cb, plateau_cb], validation_split=0.15)"
   ]
  },
  {
   "cell_type": "code",
   "execution_count": 48,
   "metadata": {
    "pycharm": {
     "name": "#%%\n"
    }
   },
   "outputs": [
    {
     "name": "stdout",
     "output_type": "stream",
     "text": [
      "2/2 [==============================] - 0s 3ms/step - loss: 0.6637 - accuracy: 0.8000\n"
     ]
    },
    {
     "data": {
      "text/plain": [
       "[0.6637078523635864, 0.800000011920929]"
      ]
     },
     "execution_count": 48,
     "metadata": {},
     "output_type": "execute_result"
    }
   ],
   "source": [
    "deep_model.evaluate(X_test_std, y_test)"
   ]
  },
  {
   "cell_type": "code",
   "execution_count": 47,
   "metadata": {
    "pycharm": {
     "name": "#%%\n"
    }
   },
   "outputs": [
    {
     "data": {
      "image/png": "[encoded data removed]",
      "text/plain": [
       "<Figure size 432x288 with 1 Axes>"
      ]
     },
     "metadata": {
      "needs_background": "light"
     },
     "output_type": "display_data"
    }
   ],
   "source": [
    "plt.plot(deep_history.history['loss'], label=\"Train Loss\")\n",
    "plt.plot(deep_history.history['val_loss'], label=\"Validation Loss\")\n",
    "plt.legend()\n",
    "plt.savefig(\"loss.png\", dpi=500)\n",
    "# deep_history.history"
   ]
  },
  {
   "cell_type": "code",
   "execution_count": 49,
   "metadata": {
    "pycharm": {
     "name": "#%%\n"
    }
   },
   "outputs": [
    {
     "name": "stderr",
     "output_type": "stream",
     "text": [
      "/home/nimahsn/anaconda3/envs/ml-gpu/lib/python3.9/site-packages/tensorflow/python/keras/engine/sequential.py:450: UserWarning: `model.predict_classes()` is deprecated and will be removed after 2021-01-01. Please use instead:* `np.argmax(model.predict(x), axis=-1)`,   if your model does multi-class classification   (e.g. if it uses a `softmax` last-layer activation).* `(model.predict(x) > 0.5).astype(\"int32\")`,   if your model does binary classification   (e.g. if it uses a `sigmoid` last-layer activation).\n",
      "  warnings.warn('`model.predict_classes()` is deprecated and '\n"
     ]
    }
   ],
   "source": [
    "y_preds_deep = deep_model.predict_classes(X_test_std)"
   ]
  },
  {
   "cell_type": "code",
   "execution_count": 50,
   "metadata": {
    "pycharm": {
     "name": "#%%\n"
    }
   },
   "outputs": [
    {
     "name": "stdout",
     "output_type": "stream",
     "text": [
      "14 3\n",
      "5 18\n"
     ]
    }
   ],
   "source": [
    "print_confusion(y_test, y_preds_deep)"
   ]
  },
  {
   "cell_type": "code",
   "execution_count": 51,
   "metadata": {},
   "outputs": [
    {
     "name": "stdout",
     "output_type": "stream",
     "text": [
      "              precision    recall  f1-score   support\n",
      "\n",
      "           0       0.82      0.74      0.78        19\n",
      "           1       0.78      0.86      0.82        21\n",
      "\n",
      "    accuracy                           0.80        40\n",
      "   macro avg       0.80      0.80      0.80        40\n",
      "weighted avg       0.80      0.80      0.80        40\n",
      "\n"
     ]
    }
   ],
   "source": [
    "print(classification_report(y_test, y_preds_deep))"
   ]
  },
  {
   "cell_type": "code",
   "execution_count": null,
   "metadata": {},
   "outputs": [],
   "source": []
  }
 ],
 "metadata": {
  "kernelspec": {
   "display_name": "Python 3",
   "language": "python",
   "name": "python3"
  },
  "language_info": {
   "codemirror_mode": {
    "name": "ipython",
    "version": 3
   },
   "file_extension": ".py",
   "mimetype": "text/x-python",
   "name": "python",
   "nbconvert_exporter": "python",
   "pygments_lexer": "ipython3",
   "version": "3.9.4"
  }
 },
 "nbformat": 4,
 "nbformat_minor": 1
}
